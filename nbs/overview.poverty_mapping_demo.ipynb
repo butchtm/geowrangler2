{
 "cells": [
  {
   "cell_type": "raw",
   "metadata": {},
   "source": [
    "---\n",
    "description: Building Poverty Mapping Machine Learning (ML)  Models with geowrangler2\n",
    "output-file: overview.poverty_mapping_demo.html\n",
    "title: Explore Poverty Mapping Machine Learning Models\n",
    "\n",
    "---\n",
    "\n"
   ]
  },
  {
   "cell_type": "code",
   "execution_count": 1,
   "metadata": {},
   "outputs": [],
   "source": [
    "#| include: false\n",
    "# all_no_test"
   ]
  },
  {
   "cell_type": "markdown",
   "metadata": {
    "id": "7kyh5MDX-crT"
   },
   "source": [
    "The aim of this notebook is to demonstrate how geowrangler2 can be used to make the process of generating ML-ready or analytics-ready datasets from raw geospatial data easier.\n",
    "\n",
    "Concretely, this shows a sample workflow for a wealth estimation model trained on a dataset constructed using:\n",
    "* Ground Truth - [DHS](https://dhsprogram.com/) household clusters + wealth indices\n",
    "* Features - Derived from Night Time Lights, OSM POIs, and Ookla internet speeds.\n",
    "\n",
    ":::{.callout-note}\n",
    "\n",
    "the goal here is to showcase geowrangler2's functions for geospatial data wrangling and feature engineering. Hence, this notebook keeps the ML modelling portions as simple as possible.*\n",
    "\n",
    ":::"
   ]
  },
  {
   "cell_type": "markdown",
   "metadata": {
    "id": "RmM5OTtiH5hQ"
   },
   "source": [
    "## Set-up\n",
    "\n",
    "Install and import some libraries."
   ]
  },
  {
   "cell_type": "code",
   "execution_count": 2,
   "metadata": {
    "colab": {
     "base_uri": "https://localhost:8080/"
    },
    "id": "xjyM25gaDrqS",
    "outputId": "9d7b6179-5b5e-4055-a3da-cf4a2eea78e8"
   },
   "outputs": [],
   "source": [
    "#| include: false\n",
    "# no_test\n",
    "![ -e /content ] && pip install geopandas==0.10.2\n",
    "![ -e /content ] && pip install folium==0.12.1.post1\n",
    "![ -e /content ] && pip install mapclassify==2.4.3\n",
    "![ -e /content ] && pip install git+https://github.com/thinkingmachines/geowrangler2.git\n",
    "![ -e /content ] && pip uninstall pygeos shapely -y\n",
    "![ -e /content ] && pip install pygeos==0.12.0 shapely==1.8.5  --no-binary pygeos --no-binary shapely"
   ]
  },
  {
   "cell_type": "code",
   "execution_count": 3,
   "metadata": {
    "id": "fMy5JVb3DpYP"
   },
   "outputs": [],
   "source": [
    "from pathlib import Path\n",
    "\n",
    "import folium\n",
    "import geopandas as gpd\n",
    "import matplotlib.pyplot as plt\n",
    "import pandas as pd\n",
    "import sklearn\n",
    "from shapely import wkt\n",
    "from sklearn.ensemble import RandomForestRegressor\n",
    "\n",
    "import geowrangler2.area_zonal_stats as azs\n",
    "import geowrangler2.distance_zonal_stats as dzs\n",
    "import geowrangler2.raster_zonal_stats as rzs\n",
    "import geowrangler2.vector_zonal_stats as vzs\n",
    "from geowrangler2 import grids\n",
    "from geowrangler2.datasets import geofabrik, ookla"
   ]
  },
  {
   "cell_type": "markdown",
   "metadata": {
    "id": "nEQYkEgUYA18"
   },
   "source": [
    "## Pre-requisite: Manual Data Download"
   ]
  },
  {
   "cell_type": "code",
   "execution_count": 4,
   "metadata": {},
   "outputs": [],
   "source": [
    "#| include: false\n",
    "# no_test\n",
    "!mkdir -p ../data\n",
    "![ -e /content ] && ln -s ../data ."
   ]
  },
  {
   "cell_type": "code",
   "execution_count": 5,
   "metadata": {
    "id": "X-3250B4tqow"
   },
   "outputs": [],
   "source": [
    "# no_test\n",
    "# download data if not yet available\n",
    "![ ! -e ../data/phl_adm0.geojson ] && curl -s -o ../data/phl_adm0.geojson https://raw.githubusercontent.com/thinkingmachines/geowrangler2/master/data/phl_adm0.geojson\n",
    "![ ! -e ../data/phl_dhs_cluster_level.csv ] && curl -s -o ../data/phl_dhs_cluster_level.csv https://raw.githubusercontent.com/thinkingmachines/geowrangler2/master/data/phl_dhs_cluster_level.csv\n",
    "![ ! -e ../data/phl_ntl.tif ] && curl -s -o ../data/phl_ntl.tif https://raw.githubusercontent.com/thinkingmachines/geowrangler2/master/data/phl_ntl.tif"
   ]
  },
  {
   "cell_type": "code",
   "execution_count": 6,
   "metadata": {
    "id": "Be84VPuVudhI"
   },
   "outputs": [],
   "source": [
    "DATA_DIR = Path(\"../data/\")\n",
    "# Auto-creates the folder if it does not exist\n",
    "DATA_DIR.mkdir(parents=True, exist_ok=True)"
   ]
  },
  {
   "cell_type": "markdown",
   "metadata": {
    "id": "o9V6ZS6GbeTH"
   },
   "source": [
    "Your data directory should look something like this.\n",
    "\n",
    "![data_dir.PNG](data:image/png;base64,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)"
   ]
  },
  {
   "cell_type": "markdown",
   "metadata": {
    "id": "5AqB5NSIHsm7"
   },
   "source": [
    "## Data Preparation"
   ]
  },
  {
   "cell_type": "markdown",
   "metadata": {
    "id": "4VBmQmmyYsor"
   },
   "source": [
    "### DHS Ground Truth\n",
    "\n",
    "The ground truth used in this demo notebook is from a DHS 2017 on-the-ground household survey conducted in the Philippines regarding the households' socio-demographic information.\n",
    "\n",
    "The file we provide is already a pre-processed version of the data that is aggregated on a household-cluster level, meaning the information cannot be tied back to any individual household. Specifically, we only provide a list of household clusters with their corresponding (jittered) GPS coordinate and  DHS-computed wealth index.\n",
    "\n",
    "Due to the sensitive nature of the data and the DHS program terms of use, we cannot provide the raw data. You can, however, request for access to raw data yourself on the [DHS website](https://dhsprogram.com/data/new-user-registration.cfm). In that case, you can use geowrangler2's [DHS processing utils](https://geowrangler2.thinkingmachin.es/tutorial.dhs.html) help perform the said pre-processing."
   ]
  },
  {
   "cell_type": "markdown",
   "metadata": {
    "id": "xcouU-vL2ZL6"
   },
   "source": [
    "Our first step is to create a GeoDataFrame from the data."
   ]
  },
  {
   "cell_type": "code",
   "execution_count": 7,
   "metadata": {
    "colab": {
     "base_uri": "https://localhost:8080/",
     "height": 224
    },
    "id": "kZcjubfAhZlE",
    "outputId": "a117c5be-cae1-4a60-c56a-f95630a27618"
   },
   "outputs": [
    {
     "name": "stdout",
     "output_type": "stream",
     "text": [
      "There are 1,213 clusters.\n"
     ]
    },
    {
     "data": {
      "text/html": [
       "<div>\n",
       "<style scoped>\n",
       "    .dataframe tbody tr th:only-of-type {\n",
       "        vertical-align: middle;\n",
       "    }\n",
       "\n",
       "    .dataframe tbody tr th {\n",
       "        vertical-align: top;\n",
       "    }\n",
       "\n",
       "    .dataframe thead th {\n",
       "        text-align: right;\n",
       "    }\n",
       "</style>\n",
       "<table border=\"1\" class=\"dataframe\">\n",
       "  <thead>\n",
       "    <tr style=\"text-align: right;\">\n",
       "      <th></th>\n",
       "      <th>DHSCLUST</th>\n",
       "      <th>Wealth Index</th>\n",
       "      <th>DHSID</th>\n",
       "      <th>longitude</th>\n",
       "      <th>latitude</th>\n",
       "      <th>geometry</th>\n",
       "    </tr>\n",
       "  </thead>\n",
       "  <tbody>\n",
       "    <tr>\n",
       "      <th>0</th>\n",
       "      <td>1</td>\n",
       "      <td>-31881.60870</td>\n",
       "      <td>PH201700000001</td>\n",
       "      <td>122.109807</td>\n",
       "      <td>6.674652</td>\n",
       "      <td>POINT (122.10981 6.67465)</td>\n",
       "    </tr>\n",
       "    <tr>\n",
       "      <th>1</th>\n",
       "      <td>2</td>\n",
       "      <td>-2855.37500</td>\n",
       "      <td>PH201700000002</td>\n",
       "      <td>122.132027</td>\n",
       "      <td>6.662256</td>\n",
       "      <td>POINT (122.13203 6.66226)</td>\n",
       "    </tr>\n",
       "    <tr>\n",
       "      <th>2</th>\n",
       "      <td>3</td>\n",
       "      <td>-57647.04762</td>\n",
       "      <td>PH201700000003</td>\n",
       "      <td>122.179496</td>\n",
       "      <td>6.621822</td>\n",
       "      <td>POINT (122.17950 6.62182)</td>\n",
       "    </tr>\n",
       "    <tr>\n",
       "      <th>3</th>\n",
       "      <td>4</td>\n",
       "      <td>-54952.66667</td>\n",
       "      <td>PH201700000004</td>\n",
       "      <td>122.137965</td>\n",
       "      <td>6.485298</td>\n",
       "      <td>POINT (122.13796 6.48530)</td>\n",
       "    </tr>\n",
       "    <tr>\n",
       "      <th>5</th>\n",
       "      <td>6</td>\n",
       "      <td>-80701.69565</td>\n",
       "      <td>PH201700000006</td>\n",
       "      <td>121.916094</td>\n",
       "      <td>6.629457</td>\n",
       "      <td>POINT (121.91609 6.62946)</td>\n",
       "    </tr>\n",
       "  </tbody>\n",
       "</table>\n",
       "</div>"
      ],
      "text/plain": [
       "   DHSCLUST  Wealth Index           DHSID   longitude  latitude  \\\n",
       "0         1  -31881.60870  PH201700000001  122.109807  6.674652   \n",
       "1         2   -2855.37500  PH201700000002  122.132027  6.662256   \n",
       "2         3  -57647.04762  PH201700000003  122.179496  6.621822   \n",
       "3         4  -54952.66667  PH201700000004  122.137965  6.485298   \n",
       "5         6  -80701.69565  PH201700000006  121.916094  6.629457   \n",
       "\n",
       "                    geometry  \n",
       "0  POINT (122.10981 6.67465)  \n",
       "1  POINT (122.13203 6.66226)  \n",
       "2  POINT (122.17950 6.62182)  \n",
       "3  POINT (122.13796 6.48530)  \n",
       "5  POINT (121.91609 6.62946)  "
      ]
     },
     "execution_count": 7,
     "metadata": {},
     "output_type": "execute_result"
    }
   ],
   "source": [
    "# Load ground truth data as a DataFrame first\n",
    "GROUND_TRUTH_CSV = DATA_DIR / \"phl_dhs_cluster_level.csv\"\n",
    "df = pd.read_csv(GROUND_TRUTH_CSV)\n",
    "\n",
    "# Some of the coordinates in the data are invalid. This filters them out.\n",
    "df = df[(df.longitude > 0) & (df.latitude > 0)]\n",
    "\n",
    "# Create a GeoDataFrame from the longitude, latitude columns.\n",
    "gdf = gpd.GeoDataFrame(\n",
    "    df, geometry=gpd.points_from_xy(df.longitude, df.latitude), crs=\"epsg:4326\"\n",
    ")\n",
    "\n",
    "print(f\"There are {len(gdf):,} clusters.\")\n",
    "gdf.head()"
   ]
  },
  {
   "cell_type": "markdown",
   "metadata": {
    "id": "_EXd3fOY2xhG"
   },
   "source": [
    "Next, we want to create a buffer around each cluster centroid that represents the area's neighborhood. This is so we can engineer some features and characterize these neighborhoods using open data.\n",
    "\n",
    "*This is a design decision, but for this demo, we'll create a circlular area with a 2km radius following the random displacement introduced by DHS to preserve household privacy.*"
   ]
  },
  {
   "cell_type": "code",
   "execution_count": 8,
   "metadata": {
    "colab": {
     "base_uri": "https://localhost:8080/",
     "height": 206
    },
    "id": "Tv4TZhvYUVJG",
    "outputId": "1e7ce8c7-0fd5-4d1f-9023-d5475955e6d1"
   },
   "outputs": [
    {
     "data": {
      "text/html": [
       "<div>\n",
       "<style scoped>\n",
       "    .dataframe tbody tr th:only-of-type {\n",
       "        vertical-align: middle;\n",
       "    }\n",
       "\n",
       "    .dataframe tbody tr th {\n",
       "        vertical-align: top;\n",
       "    }\n",
       "\n",
       "    .dataframe thead th {\n",
       "        text-align: right;\n",
       "    }\n",
       "</style>\n",
       "<table border=\"1\" class=\"dataframe\">\n",
       "  <thead>\n",
       "    <tr style=\"text-align: right;\">\n",
       "      <th></th>\n",
       "      <th>DHSCLUST</th>\n",
       "      <th>Wealth Index</th>\n",
       "      <th>DHSID</th>\n",
       "      <th>longitude</th>\n",
       "      <th>latitude</th>\n",
       "      <th>geometry</th>\n",
       "    </tr>\n",
       "  </thead>\n",
       "  <tbody>\n",
       "    <tr>\n",
       "      <th>0</th>\n",
       "      <td>1</td>\n",
       "      <td>-31881.60870</td>\n",
       "      <td>PH201700000001</td>\n",
       "      <td>122.109807</td>\n",
       "      <td>6.674652</td>\n",
       "      <td>POLYGON ((122.12789 6.67461, 122.12780 6.67284...</td>\n",
       "    </tr>\n",
       "    <tr>\n",
       "      <th>1</th>\n",
       "      <td>2</td>\n",
       "      <td>-2855.37500</td>\n",
       "      <td>PH201700000002</td>\n",
       "      <td>122.132027</td>\n",
       "      <td>6.662256</td>\n",
       "      <td>POLYGON ((122.15011 6.66221, 122.15002 6.66044...</td>\n",
       "    </tr>\n",
       "    <tr>\n",
       "      <th>2</th>\n",
       "      <td>3</td>\n",
       "      <td>-57647.04762</td>\n",
       "      <td>PH201700000003</td>\n",
       "      <td>122.179496</td>\n",
       "      <td>6.621822</td>\n",
       "      <td>POLYGON ((122.19758 6.62178, 122.19749 6.62001...</td>\n",
       "    </tr>\n",
       "    <tr>\n",
       "      <th>3</th>\n",
       "      <td>4</td>\n",
       "      <td>-54952.66667</td>\n",
       "      <td>PH201700000004</td>\n",
       "      <td>122.137965</td>\n",
       "      <td>6.485298</td>\n",
       "      <td>POLYGON ((122.15604 6.48526, 122.15595 6.48349...</td>\n",
       "    </tr>\n",
       "    <tr>\n",
       "      <th>5</th>\n",
       "      <td>6</td>\n",
       "      <td>-80701.69565</td>\n",
       "      <td>PH201700000006</td>\n",
       "      <td>121.916094</td>\n",
       "      <td>6.629457</td>\n",
       "      <td>POLYGON ((121.93418 6.62942, 121.93409 6.62765...</td>\n",
       "    </tr>\n",
       "  </tbody>\n",
       "</table>\n",
       "</div>"
      ],
      "text/plain": [
       "   DHSCLUST  Wealth Index           DHSID   longitude  latitude  \\\n",
       "0         1  -31881.60870  PH201700000001  122.109807  6.674652   \n",
       "1         2   -2855.37500  PH201700000002  122.132027  6.662256   \n",
       "2         3  -57647.04762  PH201700000003  122.179496  6.621822   \n",
       "3         4  -54952.66667  PH201700000004  122.137965  6.485298   \n",
       "5         6  -80701.69565  PH201700000006  121.916094  6.629457   \n",
       "\n",
       "                                            geometry  \n",
       "0  POLYGON ((122.12789 6.67461, 122.12780 6.67284...  \n",
       "1  POLYGON ((122.15011 6.66221, 122.15002 6.66044...  \n",
       "2  POLYGON ((122.19758 6.62178, 122.19749 6.62001...  \n",
       "3  POLYGON ((122.15604 6.48526, 122.15595 6.48349...  \n",
       "5  POLYGON ((121.93418 6.62942, 121.93409 6.62765...  "
      ]
     },
     "execution_count": 8,
     "metadata": {},
     "output_type": "execute_result"
    }
   ],
   "source": [
    "# Make sure to convert to PH crs first for the buffer in meters, and then back to WGS84\n",
    "gdf = gdf.to_crs(\"epsg:3123\")\n",
    "gdf.geometry = gdf.geometry.buffer(2000)\n",
    "gdf = gdf.to_crs(\"epsg:4326\")\n",
    "\n",
    "gdf.head(5)"
   ]
  },
  {
   "cell_type": "markdown",
   "metadata": {
    "id": "yoB7ylKU6gTx"
   },
   "source": [
    "We can visualize what we've done so far on a map."
   ]
  },
  {
   "cell_type": "code",
   "execution_count": 9,
   "metadata": {
    "colab": {
     "base_uri": "https://localhost:8080/",
     "height": 915
    },
    "id": "w_nwq9vTZnbj",
    "outputId": "789468ab-aeee-41a5-d0e5-b9160e338b5b"
   },
   "outputs": [],
   "source": [
    "# Uncomment the next line to display an interactive map\n",
    "# gdf.explore()"
   ]
  },
  {
   "cell_type": "markdown",
   "metadata": {
    "id": "kOd7JkmlZ-4D"
   },
   "source": [
    "### Download data and load them into memory\n",
    "\n",
    "Next, we'll download some data from Ookla (internet speeds) and OSM (points of interest), which we'll use to generate neighborhood characteristics to be used as ML features. "
   ]
  },
  {
   "cell_type": "markdown",
   "metadata": {
    "id": "Z4gkU66BbpI9"
   },
   "source": [
    "### Ookla\n",
    "\n",
    "[Ookla has released global open data](https://www.ookla.com/ookla-for-good/open-data) gathered from speedtests made on their platform. This gives us access to internet speed information across various geographies. In our context, this can give us a signal predictor. \n"
   ]
  },
  {
   "cell_type": "markdown",
   "metadata": {
    "id": "aYDuUJmHB7px"
   },
   "source": [
    "\n",
    "First, let's download a local copy of data on fixed internet in the 1st quarter of 2019 (earliest data available). \n",
    "\n",
    "We can use [geowrangler2's Ookla data utility](https://geowrangler2.thinkingmachin.es/tutorial.datasets.html#Downloading-Ookla-Data) to automatically download and cache the desired data on your machine given the type, year, and quarter.\n",
    "\n",
    "This is just a simplification for the demo. In practice, you might want to aggregate data across multiple time periods or incorporate wireless data."
   ]
  },
  {
   "cell_type": "code",
   "execution_count": 10,
   "metadata": {
    "colab": {
     "base_uri": "https://localhost:8080/"
    },
    "id": "EnNAD_3kbope",
    "outputId": "b6600926-a559-4c1f-d606-736086f64349"
   },
   "outputs": [
    {
     "data": {
      "text/plain": [
       "Path('data/2019-01-01_performance_fixed_tiles.parquet')"
      ]
     },
     "execution_count": 10,
     "metadata": {},
     "output_type": "execute_result"
    }
   ],
   "source": [
    "ookla_fixed_2019_q1_filepath = ookla.download_ookla_file(\n",
    "    type_=\"fixed\", year=\"2019\", quarter=\"1\"\n",
    ")\n",
    "# This is where the downloaded file is located.\n",
    "# By default this downloads to your data/ folder, but you can customize this.\n",
    "ookla_fixed_2019_q1_filepath"
   ]
  },
  {
   "cell_type": "code",
   "execution_count": 11,
   "metadata": {
    "id": "QyjVVveWg5GW"
   },
   "outputs": [],
   "source": [
    "# This is a function to load and do some light pre-processing on the Ookla data.\n",
    "\n",
    "\n",
    "def load_ookla_data(filename, mask=None):\n",
    "\n",
    "    # Ookla's parquet file doesn't seem to have geo metadata so need to read through pandas first\n",
    "    ookla_df = pd.read_parquet(filename)\n",
    "    ookla_gdf = gpd.GeoDataFrame(\n",
    "        ookla_df,\n",
    "        geometry=ookla_df[\"tile\"].apply(lambda x: wkt.loads(x)),\n",
    "        crs=\"epsg:4326\",\n",
    "    )\n",
    "    ookla_gdf.drop(columns=[\"tile\"], inplace=True)\n",
    "\n",
    "    # Ookla's data files contain data for the whole world.\n",
    "    # For our case, we're retaining only tiles that intersect with the given mask.\n",
    "    # This is to speed-up any processing we do later on.\n",
    "    if mask is not None:\n",
    "        keep_cols = ookla_gdf.columns\n",
    "        ookla_gdf = ookla_gdf.sjoin(mask, how=\"inner\", predicate=\"intersects\")\n",
    "        ookla_gdf = ookla_gdf[keep_cols]\n",
    "        ookla_gdf.head()\n",
    "\n",
    "    # Convert kbps to mbps for easier reading\n",
    "    ookla_gdf[\"avg_d_mbps\"] = ookla_gdf[\"avg_d_kbps\"] / 1000\n",
    "    ookla_gdf[\"avg_u_mbps\"] = ookla_gdf[\"avg_u_kbps\"] / 1000\n",
    "\n",
    "    return ookla_gdf"
   ]
  },
  {
   "cell_type": "markdown",
   "metadata": {
    "id": "67mnoX7hiBRW"
   },
   "source": [
    "The Ookla data is quite large, and takes around 5 minutes to load."
   ]
  },
  {
   "cell_type": "code",
   "execution_count": 12,
   "metadata": {
    "colab": {
     "base_uri": "https://localhost:8080/"
    },
    "id": "gChFcrG_g5hy",
    "outputId": "38a21bf1-4ab4-4cb0-be15-3892c287efdb"
   },
   "outputs": [
    {
     "name": "stdout",
     "output_type": "stream",
     "text": [
      "CPU times: user 1min 59s, sys: 38.7 s, total: 2min 38s\n",
      "Wall time: 2min 38s\n"
     ]
    }
   ],
   "source": [
    "%%time\n",
    "ookla_gdf = load_ookla_data(ookla_fixed_2019_q1_filepath, mask=gdf)"
   ]
  },
  {
   "cell_type": "code",
   "execution_count": 13,
   "metadata": {
    "colab": {
     "base_uri": "https://localhost:8080/",
     "height": 224
    },
    "id": "zvEW7vinicyY",
    "outputId": "e937c644-fb78-451e-9f78-d34cbb98e60d"
   },
   "outputs": [
    {
     "name": "stdout",
     "output_type": "stream",
     "text": [
      "17,245 Ookla data tiles retained that intersect with our DHS cluster neighborhoods.\n"
     ]
    },
    {
     "data": {
      "text/html": [
       "<div>\n",
       "<style scoped>\n",
       "    .dataframe tbody tr th:only-of-type {\n",
       "        vertical-align: middle;\n",
       "    }\n",
       "\n",
       "    .dataframe tbody tr th {\n",
       "        vertical-align: top;\n",
       "    }\n",
       "\n",
       "    .dataframe thead th {\n",
       "        text-align: right;\n",
       "    }\n",
       "</style>\n",
       "<table border=\"1\" class=\"dataframe\">\n",
       "  <thead>\n",
       "    <tr style=\"text-align: right;\">\n",
       "      <th></th>\n",
       "      <th>quadkey</th>\n",
       "      <th>avg_d_kbps</th>\n",
       "      <th>avg_u_kbps</th>\n",
       "      <th>avg_lat_ms</th>\n",
       "      <th>tests</th>\n",
       "      <th>devices</th>\n",
       "      <th>geometry</th>\n",
       "      <th>avg_d_mbps</th>\n",
       "      <th>avg_u_mbps</th>\n",
       "    </tr>\n",
       "  </thead>\n",
       "  <tbody>\n",
       "    <tr>\n",
       "      <th>4368240</th>\n",
       "      <td>1323011210311031</td>\n",
       "      <td>10</td>\n",
       "      <td>21</td>\n",
       "      <td>126</td>\n",
       "      <td>1</td>\n",
       "      <td>1</td>\n",
       "      <td>POLYGON ((121.96472 20.45790, 121.97021 20.457...</td>\n",
       "      <td>0.010</td>\n",
       "      <td>0.021</td>\n",
       "    </tr>\n",
       "    <tr>\n",
       "      <th>4368241</th>\n",
       "      <td>1323011210311033</td>\n",
       "      <td>5931</td>\n",
       "      <td>10633</td>\n",
       "      <td>228</td>\n",
       "      <td>3</td>\n",
       "      <td>2</td>\n",
       "      <td>POLYGON ((121.96472 20.45275, 121.97021 20.452...</td>\n",
       "      <td>5.931</td>\n",
       "      <td>10.633</td>\n",
       "    </tr>\n",
       "    <tr>\n",
       "      <th>4368242</th>\n",
       "      <td>1323011210311122</td>\n",
       "      <td>13063</td>\n",
       "      <td>9266</td>\n",
       "      <td>218</td>\n",
       "      <td>5</td>\n",
       "      <td>2</td>\n",
       "      <td>POLYGON ((121.97021 20.45275, 121.97571 20.452...</td>\n",
       "      <td>13.063</td>\n",
       "      <td>9.266</td>\n",
       "    </tr>\n",
       "    <tr>\n",
       "      <th>4368243</th>\n",
       "      <td>1323011210311211</td>\n",
       "      <td>20</td>\n",
       "      <td>51</td>\n",
       "      <td>130</td>\n",
       "      <td>1</td>\n",
       "      <td>1</td>\n",
       "      <td>POLYGON ((121.96472 20.44760, 121.97021 20.447...</td>\n",
       "      <td>0.020</td>\n",
       "      <td>0.051</td>\n",
       "    </tr>\n",
       "    <tr>\n",
       "      <th>4368245</th>\n",
       "      <td>1323011210311230</td>\n",
       "      <td>195</td>\n",
       "      <td>589</td>\n",
       "      <td>114</td>\n",
       "      <td>1</td>\n",
       "      <td>1</td>\n",
       "      <td>POLYGON ((121.95923 20.43731, 121.96472 20.437...</td>\n",
       "      <td>0.195</td>\n",
       "      <td>0.589</td>\n",
       "    </tr>\n",
       "  </tbody>\n",
       "</table>\n",
       "</div>"
      ],
      "text/plain": [
       "                  quadkey  avg_d_kbps  avg_u_kbps  avg_lat_ms  tests  devices  \\\n",
       "4368240  1323011210311031          10          21         126      1        1   \n",
       "4368241  1323011210311033        5931       10633         228      3        2   \n",
       "4368242  1323011210311122       13063        9266         218      5        2   \n",
       "4368243  1323011210311211          20          51         130      1        1   \n",
       "4368245  1323011210311230         195         589         114      1        1   \n",
       "\n",
       "                                                  geometry  avg_d_mbps  \\\n",
       "4368240  POLYGON ((121.96472 20.45790, 121.97021 20.457...       0.010   \n",
       "4368241  POLYGON ((121.96472 20.45275, 121.97021 20.452...       5.931   \n",
       "4368242  POLYGON ((121.97021 20.45275, 121.97571 20.452...      13.063   \n",
       "4368243  POLYGON ((121.96472 20.44760, 121.97021 20.447...       0.020   \n",
       "4368245  POLYGON ((121.95923 20.43731, 121.96472 20.437...       0.195   \n",
       "\n",
       "         avg_u_mbps  \n",
       "4368240       0.021  \n",
       "4368241      10.633  \n",
       "4368242       9.266  \n",
       "4368243       0.051  \n",
       "4368245       0.589  "
      ]
     },
     "execution_count": 13,
     "metadata": {},
     "output_type": "execute_result"
    }
   ],
   "source": [
    "print(\n",
    "    f\"{len(ookla_gdf):,} Ookla data tiles retained that intersect with our DHS cluster neighborhoods.\"\n",
    ")\n",
    "ookla_gdf.head()"
   ]
  },
  {
   "cell_type": "markdown",
   "metadata": {
    "id": "D7KUxJjhdJJo"
   },
   "source": [
    "### OSM (Open Street Maps)\n",
    "One source of open data on points of interest is OSM. We'll use the version of the data provided by Geofabrik vs accessing the OSM Overpass API. This allows us to not be bottlenecked by API calls.\n",
    "\n",
    "Similar to Ookla, we can also use [geowrangler2's OSM data download utils](https://geowrangler2.thinkingmachin.es/tutorial.datasets.html#Downloading-Geofabrik-Data) to download and cache OSM data on your machine. All you have to do is specify the country you want. \n",
    "\n",
    "Geofabrik's OSM data is a zip file containing different files for POIs, waterways, roads, etc. For this demo notebook, we'll only use the POIs."
   ]
  },
  {
   "cell_type": "code",
   "execution_count": 14,
   "metadata": {
    "colab": {
     "base_uri": "https://localhost:8080/"
    },
    "id": "DT0GSta3boHo",
    "outputId": "15684467-d7fd-4823-fe3c-add66f88491b"
   },
   "outputs": [
    {
     "name": "stdout",
     "output_type": "stream",
     "text": [
      "Archive:  data/philippines-latest-free.shp.zip\n",
      "replace data/ph_osm/README? [y]es, [n]o, [A]ll, [N]one, [r]ename: "
     ]
    }
   ],
   "source": [
    "# This download can take around 1-2 minutes.\n",
    "ph_osm_zip_path = geofabrik.download_geofabrik_region(\"philippines\")\n",
    "\n",
    "# This line unzips the zip file if we haven't done so yet.\n",
    "!echo 'None' | unzip $ph_osm_zip_path -d data/ph_osm/"
   ]
  },
  {
   "cell_type": "code",
   "execution_count": 21,
   "metadata": {
    "id": "7m3-G3IndcMD"
   },
   "outputs": [
    {
     "name": "stdout",
     "output_type": "stream",
     "text": [
      "-rw-r--r-- 1 butchtm butchtm  100 Jan  5 17:50 data/ph_osm/gis_osm_buildings_a_free_1.shp\n",
      "-rw-r--r-- 1 butchtm butchtm  100 Jan  5 17:50 data/ph_osm/gis_osm_landuse_a_free_1.shp\n",
      "-rw-r--r-- 1 butchtm butchtm  100 Jan  5 17:50 data/ph_osm/gis_osm_natural_a_free_1.shp\n",
      "-rw-r--r-- 1 butchtm butchtm 763K Jan  5 17:50 data/ph_osm/gis_osm_natural_free_1.shp\n",
      "-rw-r--r-- 1 butchtm butchtm  100 Jan  5 17:50 data/ph_osm/gis_osm_places_a_free_1.shp\n",
      "-rw-r--r-- 1 butchtm butchtm 1.1M Jan  5 17:50 data/ph_osm/gis_osm_places_free_1.shp\n",
      "-rw-r--r-- 1 butchtm butchtm  100 Jan  5 17:50 data/ph_osm/gis_osm_pofw_a_free_1.shp\n",
      "-rw-r--r-- 1 butchtm butchtm 102K Jan  5 17:50 data/ph_osm/gis_osm_pofw_free_1.shp\n",
      "-rw-r--r-- 1 butchtm butchtm  100 Jan  5 17:50 data/ph_osm/gis_osm_pois_a_free_1.shp\n",
      "-rw-r--r-- 1 butchtm butchtm 3.5M Jan  5 17:50 data/ph_osm/gis_osm_pois_free_1.shp\n",
      "-rw-r--r-- 1 butchtm butchtm  100 Jan  5 17:50 data/ph_osm/gis_osm_railways_free_1.shp\n",
      "-rw-r--r-- 1 butchtm butchtm  100 Jan  5 17:50 data/ph_osm/gis_osm_roads_free_1.shp\n",
      "-rw-r--r-- 1 butchtm butchtm  100 Jan  5 17:50 data/ph_osm/gis_osm_traffic_a_free_1.shp\n",
      "-rw-r--r-- 1 butchtm butchtm 1.1M Jan  5 17:50 data/ph_osm/gis_osm_traffic_free_1.shp\n",
      "-rw-r--r-- 1 butchtm butchtm  100 Jan  5 17:50 data/ph_osm/gis_osm_transport_a_free_1.shp\n",
      "-rw-r--r-- 1 butchtm butchtm 177K Jan  5 17:50 data/ph_osm/gis_osm_transport_free_1.shp\n",
      "-rw-r--r-- 1 butchtm butchtm  100 Jan  5 17:50 data/ph_osm/gis_osm_water_a_free_1.shp\n",
      "-rw-r--r-- 1 butchtm butchtm  100 Jan  5 17:50 data/ph_osm/gis_osm_waterways_free_1.shp\n"
     ]
    }
   ],
   "source": [
    "# Uncomment the ff line to see all the available OSM files aside from POIs.\n",
    "!ls -aldh data/ph_osm/*.shp"
   ]
  },
  {
   "cell_type": "code",
   "execution_count": 24,
   "metadata": {
    "id": "MsQDm2iNiOfx"
   },
   "outputs": [],
   "source": [
    "ph_osm_pois_filepath = \"data/gis_osm_pois_free_1.shp\"\n",
    "ph_osm = gpd.read_file(ph_osm_pois_filepath)"
   ]
  },
  {
   "cell_type": "code",
   "execution_count": 25,
   "metadata": {
    "colab": {
     "base_uri": "https://localhost:8080/",
     "height": 224
    },
    "id": "mHRSof8Honoz",
    "outputId": "d42df7b1-cffa-4c1f-c818-4a5735ecfcae"
   },
   "outputs": [
    {
     "name": "stdout",
     "output_type": "stream",
     "text": [
      "There are 0 OSM POIs.\n"
     ]
    },
    {
     "data": {
      "text/html": [
       "<div>\n",
       "<style scoped>\n",
       "    .dataframe tbody tr th:only-of-type {\n",
       "        vertical-align: middle;\n",
       "    }\n",
       "\n",
       "    .dataframe tbody tr th {\n",
       "        vertical-align: top;\n",
       "    }\n",
       "\n",
       "    .dataframe thead th {\n",
       "        text-align: right;\n",
       "    }\n",
       "</style>\n",
       "<table border=\"1\" class=\"dataframe\">\n",
       "  <thead>\n",
       "    <tr style=\"text-align: right;\">\n",
       "      <th></th>\n",
       "      <th>osm_id</th>\n",
       "      <th>code</th>\n",
       "      <th>fclass</th>\n",
       "      <th>name</th>\n",
       "      <th>geometry</th>\n",
       "    </tr>\n",
       "  </thead>\n",
       "  <tbody>\n",
       "  </tbody>\n",
       "</table>\n",
       "</div>"
      ],
      "text/plain": [
       "Empty GeoDataFrame\n",
       "Columns: [osm_id, code, fclass, name, geometry]\n",
       "Index: []"
      ]
     },
     "execution_count": 25,
     "metadata": {},
     "output_type": "execute_result"
    }
   ],
   "source": [
    "print(f\"There are {len(ph_osm)} OSM POIs.\")\n",
    "ph_osm.head()"
   ]
  },
  {
   "cell_type": "markdown",
   "metadata": {
    "id": "-_UkguAjZ71t"
   },
   "source": [
    "## Feature Engineering\n",
    "\n",
    "Now that we've prepared the DHS data and loaded Ookla and OSM data into memory, we're ready to generate some neighborhood features for our ML model.\n",
    "\n",
    "For convenience, we're wrapping all the feature engineering code in functions so we can re-use them later when we apply the model to the whole country.\n",
    "\n",
    "*Note: if you are modifying the feature engineering portions, it is recommended to run the whole section end-to-end. This ensures you're starting fresh from a new copy of the DHS clusters GeoDataFrame. This also ensures the function definitions are up-to-date, and can be re-used properly later for model rollout.*"
   ]
  },
  {
   "cell_type": "code",
   "execution_count": null,
   "metadata": {
    "id": "NslhVPeAjIo9"
   },
   "outputs": [],
   "source": [
    "# We'll make a copy of the GDF to avoid overwriting the original DHS GeoDataFrame.\n",
    "gdf_with_features = gdf.copy()"
   ]
  },
  {
   "cell_type": "markdown",
   "metadata": {
    "id": "Zp1R6gR2mwlF"
   },
   "source": [
    "### OSM\n",
    "\n",
    "Our goal with OSM data is to generate neighborhood characteristics based on counts and distance to certain POIs, such as schools, hospitals, etc.\n",
    "\n",
    "To do this, we utilize geowrangler2's [vector zonal stats](https://geowrangler2.thinkingmachin.es/tutorial.vector_zonal_stats.html) and [distance zonal stats](https://geowrangler2.thinkingmachin.es/tutorial.distance_zonal_stats.html) features."
   ]
  },
  {
   "cell_type": "code",
   "execution_count": null,
   "metadata": {
    "id": "G9T3dFaOkZzj"
   },
   "outputs": [],
   "source": [
    "# Uncomment the ff. line if you want to see the different POI classes available\n",
    "# ph_osm.fclass.sort_values().unique()"
   ]
  },
  {
   "cell_type": "code",
   "execution_count": null,
   "metadata": {
    "id": "9Kd51EjQ36MU"
   },
   "outputs": [],
   "source": [
    "def generate_osm_features(aoi, osm, metric_crs=\"epsg:3123\"):\n",
    "\n",
    "    aoi = aoi.copy()\n",
    "\n",
    "    # geowrangler2: Count number of all POIs per tile\n",
    "    aoi = vzs.create_zonal_stats(\n",
    "        aoi,\n",
    "        osm,\n",
    "        overlap_method=\"intersects\",\n",
    "        aggregations=[{\"func\": \"count\", \"output\": \"poi_count\", \"fillna\": True}],\n",
    "    )\n",
    "\n",
    "    # Count specific aoi types\n",
    "    poi_types = [\"restaurant\", \"school\", \"bank\", \"supermarket\", \"mall\", \"atm\"]\n",
    "\n",
    "    for poi_type in poi_types:\n",
    "        # geowrangler2: Count with vector zonal stats\n",
    "        aoi = vzs.create_zonal_stats(\n",
    "            aoi,\n",
    "            osm[osm[\"fclass\"] == poi_type],\n",
    "            overlap_method=\"intersects\",\n",
    "            aggregations=[\n",
    "                {\"func\": \"count\", \"output\": f\"{poi_type}_count\", \"fillna\": True}\n",
    "            ],\n",
    "        )\n",
    "\n",
    "        # geowrangler2: Distance with distance zonal stats\n",
    "        col_name = f\"{poi_type}_nearest\"\n",
    "        aoi = dzs.create_distance_zonal_stats(\n",
    "            aoi.to_crs(metric_crs),\n",
    "            osm[osm[\"fclass\"] == poi_type].to_crs(metric_crs),\n",
    "            max_distance=10_000,\n",
    "            aggregations=[],\n",
    "            distance_col=col_name,\n",
    "        ).to_crs(\"epsg:4326\")\n",
    "\n",
    "        # If no POI was found within the distance limit, set the distance to a really high value\n",
    "        aoi[col_name] = aoi[col_name].fillna(value=999999)\n",
    "\n",
    "    return aoi"
   ]
  },
  {
   "cell_type": "code",
   "execution_count": null,
   "metadata": {
    "colab": {
     "base_uri": "https://localhost:8080/"
    },
    "id": "dDSwSSahmy2o",
    "outputId": "2fe46273-4c88-4760-9a8a-c73ae597d804"
   },
   "outputs": [],
   "source": [
    "%%time\n",
    "gdf_with_features = generate_osm_features(gdf_with_features, ph_osm)"
   ]
  },
  {
   "cell_type": "code",
   "execution_count": null,
   "metadata": {
    "colab": {
     "base_uri": "https://localhost:8080/",
     "height": 635
    },
    "id": "c15O2r8EnEwA",
    "outputId": "6b117b95-819c-49d2-f3ec-45605af1a200"
   },
   "outputs": [],
   "source": [
    "gdf_with_features.head()"
   ]
  },
  {
   "cell_type": "markdown",
   "metadata": {
    "id": "Rsqpbx3qZ_At"
   },
   "source": [
    "### Ookla\n",
    "\n",
    "Our goal with Ookla data is to generate neighborhood characteristics based on internet speeds (download, upload, latency).\n",
    "\n",
    "To do this, we utilize geowrangler2's [area zonal stats](https://geowrangler2.thinkingmachin.es/tutorial.area_zonal_stats.html) feature. "
   ]
  },
  {
   "cell_type": "code",
   "execution_count": null,
   "metadata": {
    "id": "8r1pjg9ObpTb"
   },
   "outputs": [],
   "source": [
    "def generate_ookla_features(aoi, ookla_gdf, metric_crs=\"epsg:3123\"):\n",
    "\n",
    "    aoi = aoi.copy()\n",
    "\n",
    "    orig_aoi_crs = aoi.crs\n",
    "    aoi = aoi.to_crs(metric_crs)\n",
    "    ookla_gdf = ookla_gdf.to_crs(metric_crs)\n",
    "\n",
    "    # For better formatting, rename some columns\n",
    "    ookla_gdf = ookla_gdf.rename(\n",
    "        columns={\"avg_d_mbps\": \"d_mbps\", \"avg_u_mbps\": \"u_mbps\", \"avg_lat_ms\": \"lat_ms\"}\n",
    "    )\n",
    "\n",
    "    # geowrangler2: Compute stats on the various columns\n",
    "    aoi = azs.create_area_zonal_stats(\n",
    "        aoi,\n",
    "        ookla_gdf,\n",
    "        aggregations=[\n",
    "            # Count number of devices in the area\n",
    "            dict(column=\"devices\", func=[\"raw_sum\"], fillna=True),\n",
    "            # Get stats on the download speeds\n",
    "            dict(\n",
    "                column=\"d_mbps\",\n",
    "                func=[\"imputed_mean\", \"max\", \"min\", \"std\"],\n",
    "                fillna=[True, True, True, True],\n",
    "            ),\n",
    "            # Get stats on the upload speeds\n",
    "            dict(\n",
    "                column=\"u_mbps\",\n",
    "                func=[\"imputed_mean\", \"max\", \"min\", \"std\"],\n",
    "                fillna=[True, True, True, True],\n",
    "            ),\n",
    "        ],\n",
    "        # Don't include the land area that intersected as a column\n",
    "        include_intersect=False,\n",
    "        # Don't set minimum values to 0 if the neighborhood's area doesn't fully intersect with Ookla tiles.\n",
    "        fix_min=False,\n",
    "    )\n",
    "\n",
    "    aoi = aoi.fillna(value=\"0\")\n",
    "    aoi = aoi.to_crs(orig_aoi_crs)\n",
    "\n",
    "    return aoi"
   ]
  },
  {
   "cell_type": "code",
   "execution_count": null,
   "metadata": {
    "colab": {
     "base_uri": "https://localhost:8080/"
    },
    "id": "YVC9by2BcDpn",
    "outputId": "4d2d8290-af69-4eb0-fc71-7a516b1f30b9"
   },
   "outputs": [],
   "source": [
    "%%time\n",
    "gdf_with_features = generate_ookla_features(gdf_with_features, ookla_gdf)"
   ]
  },
  {
   "cell_type": "code",
   "execution_count": null,
   "metadata": {
    "colab": {
     "base_uri": "https://localhost:8080/",
     "height": 664
    },
    "id": "Uph0ISXJv95n",
    "outputId": "14c1cbfa-9bcc-4c46-a14c-0d5a7c0b88a3"
   },
   "outputs": [],
   "source": [
    "gdf_with_features.head()"
   ]
  },
  {
   "cell_type": "markdown",
   "metadata": {
    "id": "nvLmTp2qIYbi"
   },
   "source": [
    "### Night Time Lights\n",
    "\n",
    "Lastly, we'll generate features based on night time lights. [geowrangler2 provides a raster zonal stats function](https://geowrangler2.thinkingmachin.es/tutorial.raster_zonal_stats.html) that acts as a thin layer on top of rasterio's rasterstats function. It provides a little convenience in terms of formatting and automatically joins back the features to your input GeoDataFrame."
   ]
  },
  {
   "cell_type": "code",
   "execution_count": null,
   "metadata": {
    "id": "bMaUrKh9HcP-"
   },
   "outputs": [],
   "source": [
    "def generate_ntl_features(aoi, raster_path):\n",
    "    aoi = aoi.copy()\n",
    "\n",
    "    aoi = rzs.create_raster_zonal_stats(\n",
    "        aoi,\n",
    "        raster_path,\n",
    "        aggregation=dict(\n",
    "            func=[\"mean\", \"min\", \"max\", \"std\"],\n",
    "            column=\"ntl\",\n",
    "        ),\n",
    "        extra_args=dict(nodata=0),\n",
    "    )\n",
    "\n",
    "    aoi.fillna(0, inplace=True)\n",
    "\n",
    "    return aoi"
   ]
  },
  {
   "cell_type": "code",
   "execution_count": null,
   "metadata": {
    "colab": {
     "base_uri": "https://localhost:8080/"
    },
    "id": "VU_oi95SHe4L",
    "outputId": "f29d8c06-5503-4b59-ad6a-b9293b9af10a"
   },
   "outputs": [],
   "source": [
    "%%time\n",
    "gdf_with_features = generate_ntl_features(gdf_with_features, DATA_DIR / \"phl_ntl.tif\")"
   ]
  },
  {
   "cell_type": "markdown",
   "metadata": {
    "id": "GpTBxSYYy-PT"
   },
   "source": [
    "### Visualize the final dataset\n",
    "\n",
    "Finally, let's visualize our cluster neighborhoods now with the generated features. Hover over each cluster to see its data.\n",
    "\n",
    "![DHS Cluster Features (Zoomed)](images/dhs-cluster-features-zoomed.png)"
   ]
  },
  {
   "cell_type": "code",
   "execution_count": null,
   "metadata": {
    "colab": {
     "base_uri": "https://localhost:8080/",
     "height": 915
    },
    "id": "654jFMvPjF9d",
    "outputId": "e17b7a55-0184-4f87-9ff8-0be9ad24b943"
   },
   "outputs": [],
   "source": [
    "# Visualize the clusters with the generated features\n",
    "# gdf_with_features.explore()"
   ]
  },
  {
   "cell_type": "markdown",
   "metadata": {
    "id": "yyI18PvkH15Q"
   },
   "source": [
    "# ML Training\n",
    "\n",
    "In this section, we will now train an ML model to predict the wealth index for an area given its features."
   ]
  },
  {
   "cell_type": "markdown",
   "metadata": {
    "id": "SEuhmTpLAXZA"
   },
   "source": [
    "## Prepare data into X, y and generate train/test partitions"
   ]
  },
  {
   "cell_type": "code",
   "execution_count": null,
   "metadata": {
    "id": "nZWUzuDZz1os"
   },
   "outputs": [],
   "source": [
    "# For convenience, store the list of features in a variable. Remove all extraneous columns.\n",
    "feature_cols = gdf_with_features.drop(\n",
    "    columns=[\"DHSCLUST\", \"DHSID\", \"Wealth Index\", \"longitude\", \"latitude\", \"geometry\"]\n",
    ").columns\n",
    "\n",
    "# Separate data (X) and the target (y)\n",
    "X = gdf_with_features[feature_cols]\n",
    "y = gdf_with_features[\"Wealth Index\"]\n",
    "\n",
    "# Bin y into 5 buckets for stratification when splitting the dataset\n",
    "cat_y = pd.cut(y, bins=5, labels=list(range(1, 6)))\n",
    "\n",
    "# Generate train and test partitions\n",
    "X_train, X_test, y_train, y_test = sklearn.model_selection.train_test_split(\n",
    "    X, y, test_size=0.2, random_state=2022, stratify=cat_y\n",
    ")"
   ]
  },
  {
   "cell_type": "code",
   "execution_count": null,
   "metadata": {
    "colab": {
     "base_uri": "https://localhost:8080/",
     "height": 300
    },
    "id": "zK1semBjOy-6",
    "outputId": "fb31e265-a9d3-43bb-b571-186501dda894"
   },
   "outputs": [],
   "source": [
    "X_train.head()"
   ]
  },
  {
   "cell_type": "code",
   "execution_count": null,
   "metadata": {
    "colab": {
     "base_uri": "https://localhost:8080/"
    },
    "id": "tnOh8ZupO0h3",
    "outputId": "9d53912a-2974-4bcb-eef9-482d061226f2"
   },
   "outputs": [],
   "source": [
    "y_train.head()"
   ]
  },
  {
   "cell_type": "markdown",
   "metadata": {
    "id": "ruzrrcc2AhoP"
   },
   "source": [
    "## Evaluation Function\n",
    "\n",
    "We define an evaluation function that computes R^2 and makes a plot of the actual vs predicted values."
   ]
  },
  {
   "cell_type": "code",
   "execution_count": null,
   "metadata": {
    "id": "csusfw8cAjuo"
   },
   "outputs": [],
   "source": [
    "def evaluate(model, X_train, X_test, y_train, y_test):\n",
    "\n",
    "    # R^2\n",
    "    train_predictions = model.predict(X_train)\n",
    "    print(\"Train R2 score:\", sklearn.metrics.r2_score(y_train, train_predictions))\n",
    "\n",
    "    test_predictions = model.predict(X_test)\n",
    "    print(\"Test R2 score:\", sklearn.metrics.r2_score(y_test, test_predictions))\n",
    "\n",
    "    # Plot\n",
    "\n",
    "    # Train and test predictions vs actual values\n",
    "    plt.scatter(train_predictions, y_train, label=\"Train samples\", c=\"#d95f02\")\n",
    "    plt.scatter(test_predictions, y_test, label=\"Test samples\", c=\"#7570b3\")\n",
    "\n",
    "    # Identity line\n",
    "    xpoints = ypoints = plt.xlim()\n",
    "    plt.plot(\n",
    "        xpoints, ypoints, linestyle=\"--\", color=\"k\", lw=3, scalex=False, scaley=False\n",
    "    )\n",
    "\n",
    "    # Labels and legends\n",
    "    plt.xlabel(\"Predicted value\")\n",
    "    plt.ylabel(\"True value\")\n",
    "    plt.legend()\n",
    "    plt.tight_layout()\n",
    "    plt.show()"
   ]
  },
  {
   "cell_type": "markdown",
   "metadata": {
    "id": "FaroNKSfAdjf"
   },
   "source": [
    "## Fit and Evaluate Model\n",
    "For ML modelling, let's fit a simple random forest regressor.\n",
    "\n",
    "As mentioned, we are keeping the ML modelling as simple as possible in this notebook. This is definitely not the best-performing wealth estimation model out there, but should be decent enough for demo purposes.\n",
    "\n"
   ]
  },
  {
   "cell_type": "code",
   "execution_count": null,
   "metadata": {
    "colab": {
     "base_uri": "https://localhost:8080/",
     "height": 332
    },
    "id": "g2PKk0Wk-k8d",
    "outputId": "738af25b-919b-467e-fd23-1ba96e556fb2"
   },
   "outputs": [],
   "source": [
    "model = RandomForestRegressor()\n",
    "model.fit(X_train, y_train)\n",
    "evaluate(model, X_train, X_test, y_train, y_test)"
   ]
  },
  {
   "cell_type": "markdown",
   "metadata": {
    "id": "v9W6Anfi5lcW"
   },
   "source": [
    "# ML Rollout (Phl)\n",
    "\n",
    "Now that we have a wealth estimation model, we can apply it to the whole country. \n"
   ]
  },
  {
   "cell_type": "markdown",
   "metadata": {
    "id": "B73_1gpur9L_"
   },
   "source": [
    "## Generate country-wide tiles\n",
    "\n",
    "First, we need to split the country up into smaller areas.\n",
    "\n",
    "That usually means generating grid tiles or hex tiles for your area of interest. In this notebook, we'll generate Bing tiles at zoom level 13 (which has the closest area to our 2km neighborhoods in training). \n",
    "\n",
    "[geowrangler2 provides various grid generation utilities](https://geowrangler2.web.app/tutorial.grids.html) for these different scenarios."
   ]
  },
  {
   "cell_type": "code",
   "execution_count": null,
   "metadata": {
    "id": "bUBYN5jc6sP1"
   },
   "outputs": [],
   "source": [
    "# Read in the admin boundary for PHL.\n",
    "# This file is a simplified version of the admin boundary to make the file size smaller and load times faster.\n",
    "phl_adm = gpd.read_file(f\"{DATA_DIR}/phl_adm0.geojson\")\n",
    "\n",
    "# Uncomment this line if you want to visualize it\n",
    "# phl_adm.explore()"
   ]
  },
  {
   "cell_type": "markdown",
   "metadata": {
    "id": "UOwsBwi-QVQa"
   },
   "source": [
    "The generation can take around 1-2 minutes."
   ]
  },
  {
   "cell_type": "code",
   "execution_count": null,
   "metadata": {
    "colab": {
     "base_uri": "https://localhost:8080/",
     "height": 258
    },
    "id": "GTyG8lsdD3_z",
    "outputId": "f91aace0-2081-4cd6-9e0c-6e23c900a882"
   },
   "outputs": [],
   "source": [
    "%%time\n",
    "phl_tiles = grids.BingTileGridGenerator(13).generate_grid(phl_adm)\n",
    "print(f\"There are {len(phl_tiles):,} tiles.\")\n",
    "phl_tiles.head()"
   ]
  },
  {
   "cell_type": "markdown",
   "metadata": {
    "id": "KkID-uJsJdMs"
   },
   "source": [
    "## Feature Engineering\n",
    "\n",
    "This part is simpler, as we're just re-using the feature engineering functions we previously created. Note though that we are generating features for a bigger area, so the runtime is a little longer (in total should be within 2 minutes)."
   ]
  },
  {
   "cell_type": "code",
   "execution_count": null,
   "metadata": {
    "id": "aIA0FGosJ0hM"
   },
   "outputs": [],
   "source": [
    "phl_tiles_with_features = phl_tiles.copy()"
   ]
  },
  {
   "cell_type": "code",
   "execution_count": null,
   "metadata": {
    "colab": {
     "base_uri": "https://localhost:8080/"
    },
    "id": "B4uaMrKSJs9u",
    "outputId": "d2aa43fa-2764-4210-9f3e-68f25b62c2ac"
   },
   "outputs": [],
   "source": [
    "%%time\n",
    "phl_tiles_with_features = generate_osm_features(phl_tiles_with_features, ph_osm)"
   ]
  },
  {
   "cell_type": "code",
   "execution_count": null,
   "metadata": {
    "colab": {
     "base_uri": "https://localhost:8080/"
    },
    "id": "PD5jQKOz6Zza",
    "outputId": "c477a2dd-9c78-4e61-c56e-022e480b7275"
   },
   "outputs": [],
   "source": [
    "%%time\n",
    "phl_tiles_with_features = generate_ookla_features(phl_tiles_with_features, ookla_gdf)"
   ]
  },
  {
   "cell_type": "code",
   "execution_count": null,
   "metadata": {
    "colab": {
     "base_uri": "https://localhost:8080/"
    },
    "id": "Dgg5oivpV9he",
    "outputId": "40d23778-b30c-4b7a-8dd3-77940b97a6a7"
   },
   "outputs": [],
   "source": [
    "%%time\n",
    "phl_tiles_with_features = generate_ntl_features(\n",
    "    phl_tiles_with_features, f\"{DATA_DIR}/phl_ntl.tif\"\n",
    ")"
   ]
  },
  {
   "cell_type": "markdown",
   "metadata": {
    "id": "MD42DIVxKbj8"
   },
   "source": [
    "## Make predictions and viz output\n",
    "\n",
    "Finally, we are ready to apply the model and make predictions throughout the whole country. We can also visualize it on a Cholorpleth map."
   ]
  },
  {
   "cell_type": "code",
   "execution_count": null,
   "metadata": {
    "id": "miIYpb6OKL5m"
   },
   "outputs": [],
   "source": [
    "phl_tiles_with_features[\"predicted_wealth_index\"] = model.predict(\n",
    "    phl_tiles_with_features[feature_cols]\n",
    ")"
   ]
  },
  {
   "cell_type": "code",
   "execution_count": null,
   "metadata": {
    "id": "vmlMmy-NKyBc"
   },
   "outputs": [],
   "source": [
    "def viz_chloropleth(gdf, target_feature=\"predicted_wealth_index\"):\n",
    "\n",
    "    map = folium.Map(location=[14.6091, 121.0223], width=1000, height=800, zoom_start=7)\n",
    "    subset = gdf.copy()\n",
    "    subset[\"id\"] = list(range(len(subset)))\n",
    "\n",
    "    folium.Choropleth(\n",
    "        geo_data=subset,\n",
    "        data=subset,\n",
    "        name=\"Wealth Predictions\",\n",
    "        columns=[\"id\", target_feature],\n",
    "        key_on=\"feature.properties.id\",\n",
    "        fill_color=\"Spectral\",\n",
    "        legend_name=target_feature,\n",
    "    ).add_to(map)\n",
    "\n",
    "    return map"
   ]
  },
  {
   "cell_type": "markdown",
   "metadata": {},
   "source": [
    "Visualize the output\n",
    "\n",
    "![Predicted Wealth Index Rollout (Philippines)](images/predicted-wealth-rollout-ph.png)"
   ]
  },
  {
   "cell_type": "code",
   "execution_count": null,
   "metadata": {
    "colab": {
     "base_uri": "https://localhost:8080/",
     "height": 915
    },
    "id": "5euze-SFK_TS",
    "outputId": "95fd1042-d7f5-40c2-b409-27021dd1248d"
   },
   "outputs": [],
   "source": [
    "# Uncomment the line below to visualize rollout\n",
    "# viz_chloropleth(phl_tiles_with_features)"
   ]
  }
 ],
 "metadata": {
  "colab": {
   "collapsed_sections": [],
   "provenance": [],
   "toc_visible": true
  },
  "kernelspec": {
   "display_name": "Python 3 (ipykernel)",
   "language": "python",
   "name": "python3"
  },
  "language_info": {
   "codemirror_mode": {
    "name": "ipython",
    "version": 3
   },
   "file_extension": ".py",
   "mimetype": "text/x-python",
   "name": "python",
   "nbconvert_exporter": "python",
   "pygments_lexer": "ipython3",
   "version": "3.10.12"
  }
 },
 "nbformat": 4,
 "nbformat_minor": 4
}
