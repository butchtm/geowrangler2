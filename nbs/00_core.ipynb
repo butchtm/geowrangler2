{
 "cells": [
  {
   "cell_type": "raw",
   "metadata": {},
   "source": [
    "---\n",
    "description: A template for the modules implementing best practices  \n",
    "output-file: core.html\n",
    "title: Sample Core \n",
    "\n",
    "---\n"
   ]
  },
  {
   "cell_type": "markdown",
   "metadata": {},
   "source": [
    "[![](https://colab.research.google.com/assets/colab-badge.svg \"Open in Colab button\")](https://colab.research.google.com/github/butchtm/geowrangler2/blob/main/nbs/00_core.ipynb)"
   ]
  },
  {
   "cell_type": "code",
   "execution_count": 1,
   "metadata": {
    "vscode": {
     "languageId": "python"
    }
   },
   "outputs": [],
   "source": [
    "#| default_exp core"
   ]
  },
  {
   "cell_type": "code",
   "execution_count": 2,
   "metadata": {},
   "outputs": [],
   "source": [
    "#| hide\n",
    "# colab package install \n",
    "# replace this next line with package install (if published)\n",
    "![ -d /content ] && pip install -Uqq git+https://github.com/butchtm/geowrangler2.git\n",
    "# replace this next line with dev dependencies (remove extraneous packages already in default colab environment)\n",
    "![ -d /content ] && pip install -Uqq nbdev nbdime ipytest branca folium mapclassify"
   ]
  },
  {
   "cell_type": "code",
   "execution_count": 3,
   "metadata": {},
   "outputs": [],
   "source": [
    "#| hide\n",
    "# mkdir ../data dir if not yet existing\n",
    "!mkdir -p ../data\n",
    "# link data dir into current dir for easier viewing if in colab \n",
    "![ -d /content ] && ln -s ../data "
   ]
  },
  {
   "cell_type": "code",
   "execution_count": 4,
   "metadata": {},
   "outputs": [],
   "source": [
    "#| hide\n",
    "# download data if not yet downloaded\n",
    "![ ! -e ../data/region34ncr_admin.geojson ] && curl -s -o ../data/region34ncr_admin.geojson https://raw.githubusercontent.com/thinkingmachines/geowrangler/master/data/region34ncr_admin.geojson"
   ]
  },
  {
   "cell_type": "code",
   "execution_count": 5,
   "metadata": {
    "vscode": {
     "languageId": "python"
    }
   },
   "outputs": [],
   "source": [
    "#| hide\n",
    "from nbdev.showdoc import *"
   ]
  },
  {
   "cell_type": "code",
   "execution_count": 6,
   "metadata": {
    "vscode": {
     "languageId": "python"
    }
   },
   "outputs": [],
   "source": [
    "#| hide\n",
    "import ipytest\n",
    "import pytest"
   ]
  },
  {
   "cell_type": "code",
   "execution_count": 7,
   "metadata": {
    "vscode": {
     "languageId": "python"
    }
   },
   "outputs": [],
   "source": [
    "#| hide\n",
    "ipytest.autoconfig()"
   ]
  },
  {
   "cell_type": "markdown",
   "metadata": {},
   "source": [
    "## Objectives\n",
    "* Make it easy to maintain code by placing source inside notebooks\n",
    "  - view, explore, debug code within the notebook.\n",
    "  - can optionally display source code in documentation\n",
    "* Provide good API documentation\n",
    "  - nice API documentation always kept in sync via auto doc generation\n",
    "  - easily check if doc is in sync or if code still runs\n",
    "  - tutorials can be run as notebooks locally or run in Google Colab in one click\n",
    "* Make it easy to add explanations as to what the code is doing\n",
    "* Add `pytest`-like tests using `ipytest` package\n",
    "* Split class methods into their method sections using `fastcore.patch` decorator\n",
    "  - each class method can be extensively be explained and tested in their section\n",
    "* Additional explanations can be added in the end"
   ]
  },
  {
   "cell_type": "markdown",
   "metadata": {},
   "source": [
    "## Module API"
   ]
  },
  {
   "cell_type": "code",
   "execution_count": 8,
   "metadata": {},
   "outputs": [],
   "source": [
    "#| exporti\n",
    "import requests\n",
    "import pandas as pd\n",
    "import geopandas as gpd\n",
    "import numpy as np\n",
    "from fastcore.all import patch"
   ]
  },
  {
   "cell_type": "code",
   "execution_count": 9,
   "metadata": {
    "vscode": {
     "languageId": "python"
    }
   },
   "outputs": [],
   "source": [
    "#| export\n",
    "\n",
    "def foo(\n",
    "    bar:str='baz' # input string\n",
    ") -> str: # return same input string or 'baz' by default\n",
    "    \"\"\"\n",
    "    Function that returns the value of the input argument.\n",
    "\n",
    "    Parameters:\n",
    "    \n",
    "    bar (str): Input string. Defaults to 'baz'.\n",
    "\n",
    "    Returns:\n",
    "    \n",
    "    str: The input string.\n",
    "    \"\"\"\n",
    "    return bar"
   ]
  },
  {
   "cell_type": "markdown",
   "metadata": {},
   "source": [
    "#### `foo` tests"
   ]
  },
  {
   "cell_type": "markdown",
   "metadata": {},
   "source": [
    "* A simple assert check\n",
    "    - Using `assert` in a test "
   ]
  },
  {
   "cell_type": "code",
   "execution_count": 10,
   "metadata": {
    "vscode": {
     "languageId": "python"
    }
   },
   "outputs": [],
   "source": [
    "def test_assert_values():\n",
    "    assert  1 == 1"
   ]
  },
  {
   "cell_type": "markdown",
   "metadata": {},
   "source": [
    "* A more extensive test of `foo` functions!\n",
    "  - test that default value for no arg call is `baz`\n",
    "  - test that using the first positional var returns the same value\n",
    "  - test that using the kwarg `bar` returns the kwarg."
   ]
  },
  {
   "cell_type": "code",
   "execution_count": 11,
   "metadata": {
    "vscode": {
     "languageId": "python"
    }
   },
   "outputs": [],
   "source": [
    "def test_foo():\n",
    "    assert foo() == \"baz\"\n",
    "    assert foo(\"bar\") == \"bar\"\n",
    "    assert foo(bar=\"foo\") == \"foo\""
   ]
  },
  {
   "cell_type": "markdown",
   "metadata": {},
   "source": [
    "Example where `bar` shows source included in doc"
   ]
  },
  {
   "cell_type": "code",
   "execution_count": 12,
   "metadata": {
    "vscode": {
     "languageId": "python"
    }
   },
   "outputs": [],
   "source": [
    "#| exports\n",
    "def bar(\n",
    "    foo:str='baz' # input string\n",
    ") -> str: # return same input string or 'baz' by default\n",
    "    \"\"\"\n",
    "    Function that returns the value of the input argument.\n",
    "\n",
    "    Parameters:\n",
    "    \n",
    "    foo (str): Input string. Defaults to 'baz'.\n",
    "\n",
    "    Returns:\n",
    "    \n",
    "    str: The input string.\n",
    "    \"\"\"\n",
    "    return foo"
   ]
  },
  {
   "cell_type": "markdown",
   "metadata": {},
   "source": [
    "####  `bar` tests"
   ]
  },
  {
   "cell_type": "markdown",
   "metadata": {},
   "source": [
    "* A more extensive test of `bar` functions!\n",
    "  - test that default value for no arg call is `baz`\n",
    "  - test that using the first positional var returns the same value\n",
    "  - test that using the kwarg `foo` returns the kwarg."
   ]
  },
  {
   "cell_type": "code",
   "execution_count": 13,
   "metadata": {
    "vscode": {
     "languageId": "python"
    }
   },
   "outputs": [],
   "source": [
    "def test_bar():\n",
    "    assert bar() == \"baz\"\n",
    "    assert bar(\"bar\") == \"bar\"\n",
    "    assert bar(foo=\"foo\") == \"foo\""
   ]
  },
  {
   "cell_type": "code",
   "execution_count": 14,
   "metadata": {},
   "outputs": [],
   "source": [
    "#| export\n",
    "class Dummy:\n",
    "    \"\"\"Dummy class example\n",
    "\n",
    "       Dummy class example for documentation purposes. Goal is to showcase how to split class methods into their own sections\n",
    "\n",
    "       Parameters:\n",
    "       \n",
    "       args(list): list of args\n",
    "       \n",
    "       kwargs(dict): dict of kwargs\n",
    "    \"\"\"\n",
    "    def __init__(self, \n",
    "                 *args:[], # list of args \n",
    "                 **kwargs:dict, # dict of kwargs\n",
    "                ):\n",
    "        self.args = args\n",
    "        self.kwargs = kwargs\n",
    "        "
   ]
  },
  {
   "cell_type": "code",
   "execution_count": 15,
   "metadata": {},
   "outputs": [],
   "source": [
    "#| export\n",
    "@patch\n",
    "def dummyfoo(self:Dummy, \n",
    "             bar:str='baz', # input string\n",
    "            ) -> str: # return the input string\n",
    "    \"\"\"\n",
    "    Method that returns the value of the input argument.\n",
    "\n",
    "    Parameters:\n",
    "    bar (str): Input string. Defaults to 'baz'.\n",
    "\n",
    "    Returns:\n",
    "    str: The input string.\n",
    "    \"\"\"\n",
    "    return bar"
   ]
  },
  {
   "cell_type": "markdown",
   "metadata": {},
   "source": [
    "#### `Dummy.dummyfoo` tests"
   ]
  },
  {
   "cell_type": "code",
   "execution_count": 16,
   "metadata": {},
   "outputs": [],
   "source": [
    "@pytest.fixture\n",
    "def dummy():\n",
    "    yield Dummy() "
   ]
  },
  {
   "cell_type": "code",
   "execution_count": 17,
   "metadata": {},
   "outputs": [],
   "source": [
    "def test_dummyfoo(dummy):\n",
    "    assert dummy.dummyfoo() == \"baz\"\n",
    "    assert dummy.dummyfoo(\"bar\") == \"bar\"\n",
    "    assert dummy.dummyfoo(bar=\"foo\") == \"foo\"    "
   ]
  },
  {
   "cell_type": "code",
   "execution_count": 18,
   "metadata": {
    "vscode": {
     "languageId": "python"
    }
   },
   "outputs": [
    {
     "name": "stdout",
     "output_type": "stream",
     "text": [
      "\u001b[32m.\u001b[0m\u001b[32m.\u001b[0m\u001b[32m.\u001b[0m\u001b[32m.\u001b[0m\u001b[32m                                                                                         [100%]\u001b[0m\n",
      "\u001b[32m\u001b[32m\u001b[1m4 passed\u001b[0m\u001b[32m in 0.01s\u001b[0m\u001b[0m\n"
     ]
    },
    {
     "data": {
      "text/plain": [
       "<ExitCode.OK: 0>"
      ]
     },
     "execution_count": 18,
     "metadata": {},
     "output_type": "execute_result"
    }
   ],
   "source": [
    "#| hide\n",
    "ipytest.run(raise_on_error=True)"
   ]
  },
  {
   "cell_type": "markdown",
   "metadata": {},
   "source": [
    "## Additional Explanations"
   ]
  },
  {
   "cell_type": "markdown",
   "metadata": {},
   "source": [
    "A sample exposition of code including explanatory graphs"
   ]
  },
  {
   "cell_type": "code",
   "execution_count": 19,
   "metadata": {},
   "outputs": [],
   "source": [
    "# always separate imports from rest of code\n",
    "import geopandas as gpd\n",
    "from pathlib import Path\n",
    "import matplotlib.pyplot as plt"
   ]
  },
  {
   "cell_type": "code",
   "execution_count": 20,
   "metadata": {},
   "outputs": [
    {
     "data": {
      "text/plain": [
       "True"
      ]
     },
     "execution_count": 20,
     "metadata": {},
     "output_type": "execute_result"
    }
   ],
   "source": [
    "regionfile = Path('../data/region34ncr_admin.geojson'); \n",
    "regionfile.exists()"
   ]
  },
  {
   "cell_type": "code",
   "execution_count": 21,
   "metadata": {},
   "outputs": [
    {
     "data": {
      "image/png": "[encoded data removed]",
      "text/plain": [
       "<Figure size 640x480 with 1 Axes>"
      ]
     },
     "metadata": {},
     "output_type": "display_data"
    }
   ],
   "source": [
    "if regionfile.exists():\n",
    "    aoi = gpd.read_file(regionfile)\n",
    "    aoi.plot(\n",
    "    ax=plt.axes(),\n",
    "    facecolor=\"none\",\n",
    "    edgecolor=[\n",
    "        \"#C62828\",\n",
    "        \"#283593\",\n",
    "        \"#FF9800\",\n",
    "    ],);"
   ]
  }
 ],
 "metadata": {
  "kernelspec": {
   "display_name": "Python 3 (ipykernel)",
   "language": "python",
   "name": "python3"
  },
  "language_info": {
   "codemirror_mode": {
    "name": "ipython",
    "version": 3
   },
   "file_extension": ".py",
   "mimetype": "text/x-python",
   "name": "python",
   "nbconvert_exporter": "python",
   "pygments_lexer": "ipython3",
   "version": "3.10.12"
  }
 },
 "nbformat": 4,
 "nbformat_minor": 4
}
