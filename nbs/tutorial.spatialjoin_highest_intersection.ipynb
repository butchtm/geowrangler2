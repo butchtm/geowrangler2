{
 "cells": [
  {
   "cell_type": "code",
   "execution_count": 1,
   "id": "ab510db4-6f71-4ebf-b0d2-46cea0e7a521",
   "metadata": {},
   "outputs": [],
   "source": [
    "# hide\n",
    "# no_test\n",
    "! [ -e /content ] && pip install -Uqq geowrangler2"
   ]
  },
  {
   "cell_type": "code",
   "execution_count": 2,
   "id": "e88bc48d-d14a-4b5c-aa35-ed7a5e88012a",
   "metadata": {},
   "outputs": [],
   "source": [
    "# hide\n",
    "# no_test\n",
    "!mkdir -p ../data\n",
    "![ -e /content ] && ln -s ../data ."
   ]
  },
  {
   "cell_type": "code",
   "execution_count": 3,
   "id": "19332f60-9f48-4c0b-9926-5ec41adbb949",
   "metadata": {},
   "outputs": [],
   "source": [
    "# hide\n",
    "# no_test\n",
    "%reload_ext autoreload\n",
    "%autoreload 2\n",
    "%matplotlib inline"
   ]
  },
  {
   "cell_type": "code",
   "execution_count": 4,
   "id": "52f9bc97-5c05-4321-a8b7-aacb71191b40",
   "metadata": {},
   "outputs": [
    {
     "name": "stderr",
     "output_type": "stream",
     "text": [
      "/home/butchtm/work/geomaint/wrkwrangler/.venv/lib/python3.9/site-packages/geopandas/_compat.py:111: UserWarning: The Shapely GEOS version (3.10.3-CAPI-1.16.1) is incompatible with the GEOS version PyGEOS was compiled with (3.10.1-CAPI-1.16.0). Conversions between both will be slow.\n",
      "  warnings.warn(\n"
     ]
    }
   ],
   "source": [
    "import geopandas as gpd\n",
    "\n",
    "# hide\n",
    "# no_test\n",
    "import geowrangler2.grids as grids"
   ]
  },
  {
   "cell_type": "markdown",
   "id": "bc083c01-aa14-476b-b123-8fbdbfebcaa3",
   "metadata": {
    "tags": []
   },
   "source": [
    "# Spatial Join Using Highest Intersection Tutorial"
   ]
  },
  {
   "cell_type": "markdown",
   "id": "324477f8-98f0-493c-92aa-0537cff36ec3",
   "metadata": {},
   "source": [
    "> A basic introduction to using spatial join using highest intersection"
   ]
  },
  {
   "cell_type": "markdown",
   "id": "ce13dbd9-a048-41a1-9bd7-f208253cf288",
   "metadata": {},
   "source": [
    "## Summary\n",
    "Joins attributes of two tables based on largest area of overlap. Usage of this function assumes that the two datasets are both vector polygon data."
   ]
  },
  {
   "cell_type": "markdown",
   "id": "844f9516-63b2-4c3e-85fb-a1fd90ac5db5",
   "metadata": {},
   "source": [
    "## How does it work? \n",
    "Spatial join using highest intersection works by assigning a unique ID to the first dataframe (gdf1) and using its geometry as basis for the intersection. Data from the second dataframe (gdf2), apart from its geometry, is retained in the output. "
   ]
  },
  {
   "cell_type": "markdown",
   "id": "895f8e7f-9e8b-48e6-a613-21c93e9a452d",
   "metadata": {},
   "source": [
    "### `get_highest_intersection (gdf1, gdf2, proj_crs)`"
   ]
  },
  {
   "cell_type": "markdown",
   "id": "6e1fca5f-63e8-4382-b5e9-280c762eab48",
   "metadata": {
    "tags": []
   },
   "source": [
    "|  | type | default | optional/ required | details |\n",
    "| --- | :--- | :--- | :--- | :--- |\n",
    "| gdf1 | GeoDataFrame | *none* | required | basis of output geometry |\n",
    "| gdf2 | GeoDataFrame | *none* | required | data to be included during intersection |\n",
    "| proj_crs | String | *none* | required | metric CRS (e.g., Philippines uses EPSG:32651) |"
   ]
  },
  {
   "cell_type": "markdown",
   "id": "07042bf9-62f3-4fad-9492-27f7890ea52a",
   "metadata": {},
   "source": [
    "A technical step-by-step explanation of how `get_highest_intersection` works is detailed in the cell blocks below. An example on how to use it with its arguments is shown in the **sample use case** section thereafter. "
   ]
  },
  {
   "cell_type": "markdown",
   "id": "e325a751-a2e5-4795-96a0-75c88ab6b3cb",
   "metadata": {},
   "source": [
    "1) Define the function and its arguments."
   ]
  },
  {
   "cell_type": "markdown",
   "id": "9b4fd378-22ba-4369-b7c3-adbcb7e644fd",
   "metadata": {
    "tags": []
   },
   "source": [
    "```\n",
    "def get_highest_intersection(\n",
    "    gdf1: gpd.GeoDataFrame,\n",
    "    gdf2: gpd.GeoDataFrame,\n",
    "    proj_crs: str,\n",
    ") -> gpd.GeoDataFrame:\n",
    "```"
   ]
  },
  {
   "cell_type": "markdown",
   "id": "0c97626e-90c4-4774-befc-83cbd3fdcf5b",
   "metadata": {},
   "source": [
    "2) Create a copy of the two geodataframes. "
   ]
  },
  {
   "cell_type": "markdown",
   "id": "dd27856a-ef23-4e36-9a1b-a03475313587",
   "metadata": {},
   "source": [
    "```\n",
    "    gdf1 = gdf1.copy()\n",
    "    gdf2 = gdf2.copy()\n",
    "```"
   ]
  },
  {
   "cell_type": "markdown",
   "id": "618d7378-0642-4e98-824d-4e1398cd3ac9",
   "metadata": {},
   "source": [
    "3) Rename new columns with \"__\" prefixes and suffixes to prevent overwriting existing columns in the original geodataframes."
   ]
  },
  {
   "cell_type": "markdown",
   "id": "8a2546d1-1565-45d2-9879-46d951f4b231",
   "metadata": {},
   "source": [
    "```\n",
    "    uid_col = \"__uid__\"\n",
    "    area_col = \"__area_highest_intersection__\"\n",
    "    auxiliary_cols = [uid_col, area_col]\n",
    "```"
   ]
  },
  {
   "cell_type": "markdown",
   "id": "e3276e01-b82f-40c5-80e0-a90f5455fe63",
   "metadata": {},
   "source": [
    "4) Conduct checks to make sure we are not overwriting existing columns. "
   ]
  },
  {
   "cell_type": "markdown",
   "id": "146e605b-6514-4dc0-893a-e04921596f0b",
   "metadata": {},
   "source": [
    "```\n",
    "    for col in auxiliary_cols:\n",
    "        if col in gdf1.columns:\n",
    "            raise ValueError(f\"Make sure {col} isn't already a column in gdf1\")\n",
    "        if col in gdf2.columns:\n",
    "            raise ValueError(f\"Make sure {col} isn't already a column in gdf2\")\n",
    "```"
   ]
  },
  {
   "cell_type": "markdown",
   "id": "bdc500d8-5ba7-4077-8302-0e4c9742cc88",
   "metadata": {},
   "source": [
    "5) Assign a unique ID to the first geodataframe. *Note that uid_col is also defined in Step 2.* "
   ]
  },
  {
   "cell_type": "markdown",
   "id": "f3fa47d6-f9af-4c24-84e0-a3052ec01cd2",
   "metadata": {},
   "source": [
    "```\n",
    "    gdf1[uid_col] = range(len(gdf1))\n",
    "```"
   ]
  },
  {
   "cell_type": "markdown",
   "id": "bc0d4345-614b-4d93-a170-5505bfc516fc",
   "metadata": {},
   "source": [
    "6) Get intersection of the geodataframes."
   ]
  },
  {
   "cell_type": "markdown",
   "id": "7b7f7953-847b-4a90-a4be-fc52b1e4acdc",
   "metadata": {},
   "source": [
    "```\n",
    "    overlay = gdf1.overlay(gdf2, how=\"intersection\")\n",
    "```"
   ]
  },
  {
   "cell_type": "markdown",
   "id": "c9544863-da1e-4213-b55a-15cd5320fabf",
   "metadata": {},
   "source": [
    "7) Add a column for overlapping area. *Note that area_col is also defined in Step 2.*"
   ]
  },
  {
   "cell_type": "markdown",
   "id": "e17ed377-8c09-4430-aa69-fbbfcaf818f1",
   "metadata": {},
   "source": [
    "```\n",
    "    overlay[\"geometry\"] = overlay[\"geometry\"].to_crs(proj_crs)\n",
    "    overlay[area_col] = (overlay.geometry.area)\n",
    "```"
   ]
  },
  {
   "cell_type": "markdown",
   "id": "d1b7f9df-d676-40e7-bcd6-f02268ee3970",
   "metadata": {},
   "source": [
    "8) Sort values by area. Drop duplicates and null values."
   ]
  },
  {
   "cell_type": "markdown",
   "id": "d027961d-3709-4e26-9c27-e89cb553e684",
   "metadata": {},
   "source": [
    "```\n",
    "    overlay = overlay.sort_values(by=area_col, ascending=True)\n",
    "    overlay = overlay.drop_duplicates(subset=[uid_col], keep=\"last\")\n",
    "    overlay = overlay.dropna(subset=[uid_col])\n",
    "    assert not overlay[uid_col].duplicated().any()\n",
    "    overlay = overlay.sort_values(by=[uid_col], ascending=True)\n",
    "```"
   ]
  },
  {
   "cell_type": "markdown",
   "id": "64e9eb61-53bd-4b8e-b7f6-2b2b1a3f4f73",
   "metadata": {},
   "source": [
    "9) Drop geometry from the overlay dataframe and merge the original geometry from gdf1. Also drop additional columns (uid_col, area_col) used to accomplish calculate overlapping area for the function. "
   ]
  },
  {
   "cell_type": "markdown",
   "id": "1f9251ea-ee3a-4a85-be9c-cee0b430b1df",
   "metadata": {},
   "source": [
    "```\n",
    "    overlay_merge = overlay.drop(\"geometry\", axis=1)\n",
    "\n",
    "    output = pd.merge(\n",
    "        left=gdf1[[uid_col, \"geometry\"]],\n",
    "        right=overlay_merge,\n",
    "        on=uid_col,\n",
    "        how=\"left\",\n",
    "        validate=\"one_to_one\",\n",
    "    )\n",
    "\n",
    "    output = output.drop(columns=auxiliary_cols)\n",
    "```"
   ]
  },
  {
   "cell_type": "markdown",
   "id": "68781f65-4e1f-4ddb-92bd-7be4fcb791fb",
   "metadata": {},
   "source": [
    "10) Drop the additional columns (uid_col, area_col) and return the final output. "
   ]
  },
  {
   "cell_type": "markdown",
   "id": "fcb63678-69a6-4f17-b583-fe9eaaa37816",
   "metadata": {},
   "source": [
    "```\n",
    "    return output\n",
    "```"
   ]
  },
  {
   "cell_type": "markdown",
   "id": "3b06ab02-cdb6-4579-904e-7cef00cb2d24",
   "metadata": {},
   "source": [
    "## Sample use case - Labeling grid with administrative boundaries"
   ]
  },
  {
   "cell_type": "markdown",
   "id": "d456fc46-9ca3-4658-b1fd-351c47432484",
   "metadata": {
    "tags": []
   },
   "source": [
    "Input:\n",
    "  - `grid` - GeoDataFrame that will become the basis of geometries for the output\n",
    "  - `adm_bounds` - GeoDataFrame containing attributes that we want to append to the grid\n",
    "  - `proj_crs` - metric coordinate reference system (e.g., \"EPSG:32651\" for the Philippines)\n",
    "\n",
    "Output\n",
    "  - grid with one province name per cell"
   ]
  },
  {
   "cell_type": "code",
   "execution_count": 5,
   "id": "1430fb6c-5af1-463e-9293-27593128ecd9",
   "metadata": {},
   "outputs": [],
   "source": [
    "# hide\n",
    "import warnings\n",
    "\n",
    "from IPython.display import display\n",
    "\n",
    "warnings.filterwarnings(\"ignore\", category=UserWarning, module=\"geopandas\")"
   ]
  },
  {
   "cell_type": "markdown",
   "id": "dc377b69-59c6-4feb-9590-ff990528d80d",
   "metadata": {},
   "source": [
    "### Step 1: Import package"
   ]
  },
  {
   "cell_type": "code",
   "execution_count": 6,
   "id": "2c8fad38-5bca-4c20-ae2e-f6b2ff6964c1",
   "metadata": {},
   "outputs": [],
   "source": [
    "import geopandas as gpd\n",
    "import geowrangler2.grids as grids"
   ]
  },
  {
   "cell_type": "code",
   "execution_count": 7,
   "id": "778463ca-9edf-49c7-80ef-4de833e5c6c2",
   "metadata": {},
   "outputs": [],
   "source": [
    "import geowrangler2.spatialjoin_highest_intersection as spatial_join"
   ]
  },
  {
   "cell_type": "markdown",
   "id": "0537a21b-aaed-4376-9c54-5a62219dc44a",
   "metadata": {},
   "source": [
    "### Step 2: Load the first dataset (grid)\n",
    "This dataset will become the basis of geometry for the output."
   ]
  },
  {
   "cell_type": "code",
   "execution_count": 8,
   "id": "149fbbd6-70f5-4a7e-bf7f-9c9cd94a11dc",
   "metadata": {},
   "outputs": [],
   "source": [
    "# hide\n",
    "# no_test\n",
    "!mkdir -p ../data\n",
    "# download sample geojson files from repo\n",
    "![ ! -e ../data/geoboundary.geojson ] && curl -s -o ../data/geoboundary.geojson https://raw.githubusercontent.com/thinkingmachines/geowrangler2/master/data/geoboundary.geojson"
   ]
  },
  {
   "cell_type": "code",
   "execution_count": 9,
   "id": "7640f2ae-9a89-426e-a508-7777b205126e",
   "metadata": {},
   "outputs": [],
   "source": [
    "# hide\n",
    "admin_bounds = gpd.read_file(\"../data/geoboundary.geojson\")"
   ]
  },
  {
   "cell_type": "code",
   "execution_count": 10,
   "id": "bdfbc6e7-892c-49de-964c-28296475c62d",
   "metadata": {},
   "outputs": [],
   "source": [
    "# hide\n",
    "grid_generator5k = grids.SquareGridGenerator(50_000)\n",
    "grid = grid_generator5k.generate_grid(admin_bounds)"
   ]
  },
  {
   "cell_type": "code",
   "execution_count": 11,
   "id": "b6ea6e78-8deb-4e69-ae44-94ec8f86405c",
   "metadata": {},
   "outputs": [
    {
     "data": {
      "text/html": [
       "<div>\n",
       "<style scoped>\n",
       "    .dataframe tbody tr th:only-of-type {\n",
       "        vertical-align: middle;\n",
       "    }\n",
       "\n",
       "    .dataframe tbody tr th {\n",
       "        vertical-align: top;\n",
       "    }\n",
       "\n",
       "    .dataframe thead th {\n",
       "        text-align: right;\n",
       "    }\n",
       "</style>\n",
       "<table border=\"1\" class=\"dataframe\">\n",
       "  <thead>\n",
       "    <tr style=\"text-align: right;\">\n",
       "      <th></th>\n",
       "      <th>x</th>\n",
       "      <th>y</th>\n",
       "      <th>geometry</th>\n",
       "    </tr>\n",
       "  </thead>\n",
       "  <tbody>\n",
       "    <tr>\n",
       "      <th>0</th>\n",
       "      <td>3</td>\n",
       "      <td>3</td>\n",
       "      <td>POLYGON ((118.27581 5.92871, 118.72497 5.92871...</td>\n",
       "    </tr>\n",
       "    <tr>\n",
       "      <th>1</th>\n",
       "      <td>2</td>\n",
       "      <td>3</td>\n",
       "      <td>POLYGON ((117.82665 5.92871, 118.27581 5.92871...</td>\n",
       "    </tr>\n",
       "    <tr>\n",
       "      <th>2</th>\n",
       "      <td>3</td>\n",
       "      <td>4</td>\n",
       "      <td>POLYGON ((118.27581 6.37528, 118.72497 6.37528...</td>\n",
       "    </tr>\n",
       "    <tr>\n",
       "      <th>3</th>\n",
       "      <td>3</td>\n",
       "      <td>5</td>\n",
       "      <td>POLYGON ((118.27581 6.82146, 118.72497 6.82146...</td>\n",
       "    </tr>\n",
       "    <tr>\n",
       "      <th>4</th>\n",
       "      <td>0</td>\n",
       "      <td>6</td>\n",
       "      <td>POLYGON ((116.92834 7.26723, 117.37749 7.26723...</td>\n",
       "    </tr>\n",
       "    <tr>\n",
       "      <th>...</th>\n",
       "      <td>...</td>\n",
       "      <td>...</td>\n",
       "      <td>...</td>\n",
       "    </tr>\n",
       "    <tr>\n",
       "      <th>318</th>\n",
       "      <td>19</td>\n",
       "      <td>1</td>\n",
       "      <td>POLYGON ((125.46233 5.03451, 125.91149 5.03451...</td>\n",
       "    </tr>\n",
       "    <tr>\n",
       "      <th>319</th>\n",
       "      <td>19</td>\n",
       "      <td>12</td>\n",
       "      <td>POLYGON ((125.46233 9.93163, 125.91149 9.93163...</td>\n",
       "    </tr>\n",
       "    <tr>\n",
       "      <th>320</th>\n",
       "      <td>19</td>\n",
       "      <td>13</td>\n",
       "      <td>POLYGON ((125.46233 10.37375, 125.91149 10.373...</td>\n",
       "    </tr>\n",
       "    <tr>\n",
       "      <th>321</th>\n",
       "      <td>20</td>\n",
       "      <td>12</td>\n",
       "      <td>POLYGON ((125.91149 9.93163, 126.36065 9.93163...</td>\n",
       "    </tr>\n",
       "    <tr>\n",
       "      <th>322</th>\n",
       "      <td>20</td>\n",
       "      <td>13</td>\n",
       "      <td>POLYGON ((125.91149 10.37375, 126.36065 10.373...</td>\n",
       "    </tr>\n",
       "  </tbody>\n",
       "</table>\n",
       "<p>323 rows × 3 columns</p>\n",
       "</div>"
      ],
      "text/plain": [
       "      x   y                                           geometry\n",
       "0     3   3  POLYGON ((118.27581 5.92871, 118.72497 5.92871...\n",
       "1     2   3  POLYGON ((117.82665 5.92871, 118.27581 5.92871...\n",
       "2     3   4  POLYGON ((118.27581 6.37528, 118.72497 6.37528...\n",
       "3     3   5  POLYGON ((118.27581 6.82146, 118.72497 6.82146...\n",
       "4     0   6  POLYGON ((116.92834 7.26723, 117.37749 7.26723...\n",
       "..   ..  ..                                                ...\n",
       "318  19   1  POLYGON ((125.46233 5.03451, 125.91149 5.03451...\n",
       "319  19  12  POLYGON ((125.46233 9.93163, 125.91149 9.93163...\n",
       "320  19  13  POLYGON ((125.46233 10.37375, 125.91149 10.373...\n",
       "321  20  12  POLYGON ((125.91149 9.93163, 126.36065 9.93163...\n",
       "322  20  13  POLYGON ((125.91149 10.37375, 126.36065 10.373...\n",
       "\n",
       "[323 rows x 3 columns]"
      ]
     },
     "execution_count": 11,
     "metadata": {},
     "output_type": "execute_result"
    }
   ],
   "source": [
    "grid"
   ]
  },
  {
   "cell_type": "code",
   "execution_count": 12,
   "id": "9b99a3f9-25d9-4953-9ae8-373a7813e4e7",
   "metadata": {},
   "outputs": [
    {
     "data": {
      "image/png": "[encoded data removed]",
      "text/plain": [
       "<Figure size 640x480 with 1 Axes>"
      ]
     },
     "metadata": {},
     "output_type": "display_data"
    }
   ],
   "source": [
    "grid.plot(facecolor=\"none\", edgecolor=\"blue\");"
   ]
  },
  {
   "cell_type": "code",
   "execution_count": 13,
   "id": "4afa976f-5a98-4f52-b3c2-fdfe54bb6958",
   "metadata": {},
   "outputs": [],
   "source": [
    "# grid.explore()"
   ]
  },
  {
   "cell_type": "markdown",
   "id": "22096082-3515-4c4c-9a0f-05755355d28f",
   "metadata": {},
   "source": [
    "### Step 3: Load the second dataset (admin_bounds)\n",
    "Info from this dataset (apart from geometry) will be appended to the output based on highest spatial intersection."
   ]
  },
  {
   "cell_type": "code",
   "execution_count": 14,
   "id": "cbe16af2-25ee-4179-8d31-472feb4f8a8e",
   "metadata": {},
   "outputs": [],
   "source": [
    "# hide\n",
    "# no_test\n",
    "!mkdir -p ../data\n",
    "# download sample geojson files from repo\n",
    "![ ! -e ../data/geoboundary.geojson ] && curl -s -o ../data/geoboundary.geojson https://raw.githubusercontent.com/thinkingmachines/geowrangler2/master/data/geoboundary.geojson"
   ]
  },
  {
   "cell_type": "code",
   "execution_count": 15,
   "id": "be5a3246-9d3f-4ef2-8a7e-a33866efe244",
   "metadata": {},
   "outputs": [],
   "source": [
    "# hide\n",
    "admin_bounds = gpd.read_file(\"../data/geoboundary.geojson\")"
   ]
  },
  {
   "cell_type": "code",
   "execution_count": 16,
   "id": "55e42453-e2e8-4de2-84e4-c1edb64e18fa",
   "metadata": {},
   "outputs": [
    {
     "data": {
      "text/html": [
       "<div>\n",
       "<style scoped>\n",
       "    .dataframe tbody tr th:only-of-type {\n",
       "        vertical-align: middle;\n",
       "    }\n",
       "\n",
       "    .dataframe tbody tr th {\n",
       "        vertical-align: top;\n",
       "    }\n",
       "\n",
       "    .dataframe thead th {\n",
       "        text-align: right;\n",
       "    }\n",
       "</style>\n",
       "<table border=\"1\" class=\"dataframe\">\n",
       "  <thead>\n",
       "    <tr style=\"text-align: right;\">\n",
       "      <th></th>\n",
       "      <th>shapeName</th>\n",
       "      <th>shapeISO</th>\n",
       "      <th>shapeID</th>\n",
       "      <th>shapeGroup</th>\n",
       "      <th>shapeType</th>\n",
       "      <th>geometry</th>\n",
       "    </tr>\n",
       "  </thead>\n",
       "  <tbody>\n",
       "    <tr>\n",
       "      <th>0</th>\n",
       "      <td>Abra</td>\n",
       "      <td>None</td>\n",
       "      <td>PHL-ADM2-3_0_0-B1</td>\n",
       "      <td>PHL</td>\n",
       "      <td>ADM2</td>\n",
       "      <td>MULTIPOLYGON (((120.96795 17.95706, 120.97803 ...</td>\n",
       "    </tr>\n",
       "    <tr>\n",
       "      <th>1</th>\n",
       "      <td>Agusan del Norte</td>\n",
       "      <td>None</td>\n",
       "      <td>PHL-ADM2-3_0_0-B2</td>\n",
       "      <td>PHL</td>\n",
       "      <td>ADM2</td>\n",
       "      <td>MULTIPOLYGON (((125.57724 9.45679, 125.59687 9...</td>\n",
       "    </tr>\n",
       "    <tr>\n",
       "      <th>2</th>\n",
       "      <td>Agusan del Sur</td>\n",
       "      <td>None</td>\n",
       "      <td>PHL-ADM2-3_0_0-B3</td>\n",
       "      <td>PHL</td>\n",
       "      <td>ADM2</td>\n",
       "      <td>MULTIPOLYGON (((125.91087 8.85625, 125.91461 8...</td>\n",
       "    </tr>\n",
       "    <tr>\n",
       "      <th>3</th>\n",
       "      <td>Aklan</td>\n",
       "      <td>None</td>\n",
       "      <td>PHL-ADM2-3_0_0-B4</td>\n",
       "      <td>PHL</td>\n",
       "      <td>ADM2</td>\n",
       "      <td>MULTIPOLYGON (((122.43667 11.59833, 122.43667 ...</td>\n",
       "    </tr>\n",
       "    <tr>\n",
       "      <th>4</th>\n",
       "      <td>Albay</td>\n",
       "      <td>None</td>\n",
       "      <td>PHL-ADM2-3_0_0-B5</td>\n",
       "      <td>PHL</td>\n",
       "      <td>ADM2</td>\n",
       "      <td>MULTIPOLYGON (((123.28764 13.04923, 123.28686 ...</td>\n",
       "    </tr>\n",
       "    <tr>\n",
       "      <th>...</th>\n",
       "      <td>...</td>\n",
       "      <td>...</td>\n",
       "      <td>...</td>\n",
       "      <td>...</td>\n",
       "      <td>...</td>\n",
       "      <td>...</td>\n",
       "    </tr>\n",
       "    <tr>\n",
       "      <th>76</th>\n",
       "      <td>Tawi-Tawi</td>\n",
       "      <td>None</td>\n",
       "      <td>PHL-ADM2-3_0_0-B77</td>\n",
       "      <td>PHL</td>\n",
       "      <td>ADM2</td>\n",
       "      <td>MULTIPOLYGON (((119.46694 4.58694, 119.46639 4...</td>\n",
       "    </tr>\n",
       "    <tr>\n",
       "      <th>77</th>\n",
       "      <td>Zambales</td>\n",
       "      <td>None</td>\n",
       "      <td>PHL-ADM2-3_0_0-B78</td>\n",
       "      <td>PHL</td>\n",
       "      <td>ADM2</td>\n",
       "      <td>MULTIPOLYGON (((120.08285 14.75048, 120.08222 ...</td>\n",
       "    </tr>\n",
       "    <tr>\n",
       "      <th>78</th>\n",
       "      <td>Zamboanga del Norte</td>\n",
       "      <td>None</td>\n",
       "      <td>PHL-ADM2-3_0_0-B79</td>\n",
       "      <td>PHL</td>\n",
       "      <td>ADM2</td>\n",
       "      <td>MULTIPOLYGON (((122.09467 7.53152, 122.09467 7...</td>\n",
       "    </tr>\n",
       "    <tr>\n",
       "      <th>79</th>\n",
       "      <td>Zamboanga del Sur</td>\n",
       "      <td>None</td>\n",
       "      <td>PHL-ADM2-3_0_0-B80</td>\n",
       "      <td>PHL</td>\n",
       "      <td>ADM2</td>\n",
       "      <td>MULTIPOLYGON (((122.06223 6.87278, 122.06250 6...</td>\n",
       "    </tr>\n",
       "    <tr>\n",
       "      <th>80</th>\n",
       "      <td>Zamboanga Sibugay</td>\n",
       "      <td>None</td>\n",
       "      <td>PHL-ADM2-3_0_0-B81</td>\n",
       "      <td>PHL</td>\n",
       "      <td>ADM2</td>\n",
       "      <td>MULTIPOLYGON (((122.84063 7.27694, 122.84048 7...</td>\n",
       "    </tr>\n",
       "  </tbody>\n",
       "</table>\n",
       "<p>81 rows × 6 columns</p>\n",
       "</div>"
      ],
      "text/plain": [
       "              shapeName shapeISO             shapeID shapeGroup shapeType  \\\n",
       "0                  Abra     None   PHL-ADM2-3_0_0-B1        PHL      ADM2   \n",
       "1      Agusan del Norte     None   PHL-ADM2-3_0_0-B2        PHL      ADM2   \n",
       "2        Agusan del Sur     None   PHL-ADM2-3_0_0-B3        PHL      ADM2   \n",
       "3                 Aklan     None   PHL-ADM2-3_0_0-B4        PHL      ADM2   \n",
       "4                 Albay     None   PHL-ADM2-3_0_0-B5        PHL      ADM2   \n",
       "..                  ...      ...                 ...        ...       ...   \n",
       "76            Tawi-Tawi     None  PHL-ADM2-3_0_0-B77        PHL      ADM2   \n",
       "77             Zambales     None  PHL-ADM2-3_0_0-B78        PHL      ADM2   \n",
       "78  Zamboanga del Norte     None  PHL-ADM2-3_0_0-B79        PHL      ADM2   \n",
       "79    Zamboanga del Sur     None  PHL-ADM2-3_0_0-B80        PHL      ADM2   \n",
       "80    Zamboanga Sibugay     None  PHL-ADM2-3_0_0-B81        PHL      ADM2   \n",
       "\n",
       "                                             geometry  \n",
       "0   MULTIPOLYGON (((120.96795 17.95706, 120.97803 ...  \n",
       "1   MULTIPOLYGON (((125.57724 9.45679, 125.59687 9...  \n",
       "2   MULTIPOLYGON (((125.91087 8.85625, 125.91461 8...  \n",
       "3   MULTIPOLYGON (((122.43667 11.59833, 122.43667 ...  \n",
       "4   MULTIPOLYGON (((123.28764 13.04923, 123.28686 ...  \n",
       "..                                                ...  \n",
       "76  MULTIPOLYGON (((119.46694 4.58694, 119.46639 4...  \n",
       "77  MULTIPOLYGON (((120.08285 14.75048, 120.08222 ...  \n",
       "78  MULTIPOLYGON (((122.09467 7.53152, 122.09467 7...  \n",
       "79  MULTIPOLYGON (((122.06223 6.87278, 122.06250 6...  \n",
       "80  MULTIPOLYGON (((122.84063 7.27694, 122.84048 7...  \n",
       "\n",
       "[81 rows x 6 columns]"
      ]
     },
     "execution_count": 16,
     "metadata": {},
     "output_type": "execute_result"
    }
   ],
   "source": [
    "admin_bounds"
   ]
  },
  {
   "cell_type": "code",
   "execution_count": 17,
   "id": "01dc5410-941a-465d-817c-969dfd43e58e",
   "metadata": {},
   "outputs": [
    {
     "data": {
      "image/png": "[encoded data removed]",
      "text/plain": [
       "<Figure size 640x480 with 1 Axes>"
      ]
     },
     "metadata": {},
     "output_type": "display_data"
    }
   ],
   "source": [
    "admin_bounds.plot(facecolor=\"none\", edgecolor=\"blue\");"
   ]
  },
  {
   "cell_type": "code",
   "execution_count": 18,
   "id": "cbe2c4d8-afd0-4efb-ba57-d6c934c14aab",
   "metadata": {},
   "outputs": [],
   "source": [
    "# admin_bounds.explore()"
   ]
  },
  {
   "cell_type": "markdown",
   "id": "be337207-d91d-4a99-a71d-a93f0098070d",
   "metadata": {},
   "source": [
    "### Step 4: Get spatial join with highest intersection"
   ]
  },
  {
   "cell_type": "code",
   "execution_count": 19,
   "id": "5fad708e-35a0-46e1-9b4e-bf06d82b7e4a",
   "metadata": {},
   "outputs": [],
   "source": [
    "output = spatial_join.get_highest_intersection(grid, admin_bounds, \"EPSG:32651\")"
   ]
  },
  {
   "cell_type": "markdown",
   "id": "e4c506aa-0e84-41b9-a8f3-12cf3ea28530",
   "metadata": {},
   "source": [
    "> Note that each grid now has admin bounds columns (shapeName, shapeISO, shapeID, ... etc.) based on the intersection with the admin boundaries with the highest overlapping area over each grid."
   ]
  },
  {
   "cell_type": "code",
   "execution_count": 20,
   "id": "99041fed-2cfa-43c3-9a4e-e98f17157698",
   "metadata": {},
   "outputs": [
    {
     "data": {
      "text/html": [
       "<div>\n",
       "<style scoped>\n",
       "    .dataframe tbody tr th:only-of-type {\n",
       "        vertical-align: middle;\n",
       "    }\n",
       "\n",
       "    .dataframe tbody tr th {\n",
       "        vertical-align: top;\n",
       "    }\n",
       "\n",
       "    .dataframe thead th {\n",
       "        text-align: right;\n",
       "    }\n",
       "</style>\n",
       "<table border=\"1\" class=\"dataframe\">\n",
       "  <thead>\n",
       "    <tr style=\"text-align: right;\">\n",
       "      <th></th>\n",
       "      <th>geometry</th>\n",
       "      <th>x</th>\n",
       "      <th>y</th>\n",
       "      <th>shapeName</th>\n",
       "      <th>shapeISO</th>\n",
       "      <th>shapeID</th>\n",
       "      <th>shapeGroup</th>\n",
       "      <th>shapeType</th>\n",
       "    </tr>\n",
       "  </thead>\n",
       "  <tbody>\n",
       "    <tr>\n",
       "      <th>0</th>\n",
       "      <td>POLYGON ((118.27581 5.92871, 118.72497 5.92871...</td>\n",
       "      <td>3</td>\n",
       "      <td>3</td>\n",
       "      <td>Tawi-Tawi</td>\n",
       "      <td>None</td>\n",
       "      <td>PHL-ADM2-3_0_0-B77</td>\n",
       "      <td>PHL</td>\n",
       "      <td>ADM2</td>\n",
       "    </tr>\n",
       "    <tr>\n",
       "      <th>1</th>\n",
       "      <td>POLYGON ((117.82665 5.92871, 118.27581 5.92871...</td>\n",
       "      <td>2</td>\n",
       "      <td>3</td>\n",
       "      <td>Tawi-Tawi</td>\n",
       "      <td>None</td>\n",
       "      <td>PHL-ADM2-3_0_0-B77</td>\n",
       "      <td>PHL</td>\n",
       "      <td>ADM2</td>\n",
       "    </tr>\n",
       "    <tr>\n",
       "      <th>2</th>\n",
       "      <td>POLYGON ((118.27581 6.37528, 118.72497 6.37528...</td>\n",
       "      <td>3</td>\n",
       "      <td>4</td>\n",
       "      <td>Tawi-Tawi</td>\n",
       "      <td>None</td>\n",
       "      <td>PHL-ADM2-3_0_0-B77</td>\n",
       "      <td>PHL</td>\n",
       "      <td>ADM2</td>\n",
       "    </tr>\n",
       "    <tr>\n",
       "      <th>3</th>\n",
       "      <td>POLYGON ((118.27581 6.82146, 118.72497 6.82146...</td>\n",
       "      <td>3</td>\n",
       "      <td>5</td>\n",
       "      <td>Tawi-Tawi</td>\n",
       "      <td>None</td>\n",
       "      <td>PHL-ADM2-3_0_0-B77</td>\n",
       "      <td>PHL</td>\n",
       "      <td>ADM2</td>\n",
       "    </tr>\n",
       "    <tr>\n",
       "      <th>4</th>\n",
       "      <td>POLYGON ((116.92834 7.26723, 117.37749 7.26723...</td>\n",
       "      <td>0</td>\n",
       "      <td>6</td>\n",
       "      <td>Palawan</td>\n",
       "      <td>None</td>\n",
       "      <td>PHL-ADM2-3_0_0-B59</td>\n",
       "      <td>PHL</td>\n",
       "      <td>ADM2</td>\n",
       "    </tr>\n",
       "    <tr>\n",
       "      <th>...</th>\n",
       "      <td>...</td>\n",
       "      <td>...</td>\n",
       "      <td>...</td>\n",
       "      <td>...</td>\n",
       "      <td>...</td>\n",
       "      <td>...</td>\n",
       "      <td>...</td>\n",
       "      <td>...</td>\n",
       "    </tr>\n",
       "    <tr>\n",
       "      <th>318</th>\n",
       "      <td>POLYGON ((125.46233 5.03451, 125.91149 5.03451...</td>\n",
       "      <td>19</td>\n",
       "      <td>1</td>\n",
       "      <td>Davao del Sur</td>\n",
       "      <td>None</td>\n",
       "      <td>PHL-ADM2-3_0_0-B28</td>\n",
       "      <td>PHL</td>\n",
       "      <td>ADM2</td>\n",
       "    </tr>\n",
       "    <tr>\n",
       "      <th>319</th>\n",
       "      <td>POLYGON ((125.46233 9.93163, 125.91149 9.93163...</td>\n",
       "      <td>19</td>\n",
       "      <td>12</td>\n",
       "      <td>Dinagat Islands</td>\n",
       "      <td>None</td>\n",
       "      <td>PHL-ADM2-3_0_0-B30</td>\n",
       "      <td>PHL</td>\n",
       "      <td>ADM2</td>\n",
       "    </tr>\n",
       "    <tr>\n",
       "      <th>320</th>\n",
       "      <td>POLYGON ((125.46233 10.37375, 125.91149 10.373...</td>\n",
       "      <td>19</td>\n",
       "      <td>13</td>\n",
       "      <td>Eastern Samar</td>\n",
       "      <td>None</td>\n",
       "      <td>PHL-ADM2-3_0_0-B31</td>\n",
       "      <td>PHL</td>\n",
       "      <td>ADM2</td>\n",
       "    </tr>\n",
       "    <tr>\n",
       "      <th>321</th>\n",
       "      <td>POLYGON ((125.91149 9.93163, 126.36065 9.93163...</td>\n",
       "      <td>20</td>\n",
       "      <td>12</td>\n",
       "      <td>Surigao del Norte</td>\n",
       "      <td>None</td>\n",
       "      <td>PHL-ADM2-3_0_0-B74</td>\n",
       "      <td>PHL</td>\n",
       "      <td>ADM2</td>\n",
       "    </tr>\n",
       "    <tr>\n",
       "      <th>322</th>\n",
       "      <td>POLYGON ((125.91149 10.37375, 126.36065 10.373...</td>\n",
       "      <td>20</td>\n",
       "      <td>13</td>\n",
       "      <td>Eastern Samar</td>\n",
       "      <td>None</td>\n",
       "      <td>PHL-ADM2-3_0_0-B31</td>\n",
       "      <td>PHL</td>\n",
       "      <td>ADM2</td>\n",
       "    </tr>\n",
       "  </tbody>\n",
       "</table>\n",
       "<p>323 rows × 8 columns</p>\n",
       "</div>"
      ],
      "text/plain": [
       "                                              geometry   x   y  \\\n",
       "0    POLYGON ((118.27581 5.92871, 118.72497 5.92871...   3   3   \n",
       "1    POLYGON ((117.82665 5.92871, 118.27581 5.92871...   2   3   \n",
       "2    POLYGON ((118.27581 6.37528, 118.72497 6.37528...   3   4   \n",
       "3    POLYGON ((118.27581 6.82146, 118.72497 6.82146...   3   5   \n",
       "4    POLYGON ((116.92834 7.26723, 117.37749 7.26723...   0   6   \n",
       "..                                                 ...  ..  ..   \n",
       "318  POLYGON ((125.46233 5.03451, 125.91149 5.03451...  19   1   \n",
       "319  POLYGON ((125.46233 9.93163, 125.91149 9.93163...  19  12   \n",
       "320  POLYGON ((125.46233 10.37375, 125.91149 10.373...  19  13   \n",
       "321  POLYGON ((125.91149 9.93163, 126.36065 9.93163...  20  12   \n",
       "322  POLYGON ((125.91149 10.37375, 126.36065 10.373...  20  13   \n",
       "\n",
       "             shapeName shapeISO             shapeID shapeGroup shapeType  \n",
       "0            Tawi-Tawi     None  PHL-ADM2-3_0_0-B77        PHL      ADM2  \n",
       "1            Tawi-Tawi     None  PHL-ADM2-3_0_0-B77        PHL      ADM2  \n",
       "2            Tawi-Tawi     None  PHL-ADM2-3_0_0-B77        PHL      ADM2  \n",
       "3            Tawi-Tawi     None  PHL-ADM2-3_0_0-B77        PHL      ADM2  \n",
       "4              Palawan     None  PHL-ADM2-3_0_0-B59        PHL      ADM2  \n",
       "..                 ...      ...                 ...        ...       ...  \n",
       "318      Davao del Sur     None  PHL-ADM2-3_0_0-B28        PHL      ADM2  \n",
       "319    Dinagat Islands     None  PHL-ADM2-3_0_0-B30        PHL      ADM2  \n",
       "320      Eastern Samar     None  PHL-ADM2-3_0_0-B31        PHL      ADM2  \n",
       "321  Surigao del Norte     None  PHL-ADM2-3_0_0-B74        PHL      ADM2  \n",
       "322      Eastern Samar     None  PHL-ADM2-3_0_0-B31        PHL      ADM2  \n",
       "\n",
       "[323 rows x 8 columns]"
      ]
     },
     "execution_count": 20,
     "metadata": {},
     "output_type": "execute_result"
    }
   ],
   "source": [
    "output"
   ]
  },
  {
   "cell_type": "code",
   "execution_count": 23,
   "id": "ce405bdf-47c8-4862-acba-5bdc3038a474",
   "metadata": {},
   "outputs": [
    {
     "data": {
      "image/png": "[encoded data removed]",
      "text/plain": [
       "<Figure size 640x480 with 1 Axes>"
      ]
     },
     "metadata": {},
     "output_type": "display_data"
    }
   ],
   "source": [
    "output.plot(facecolor=\"none\", edgecolor=\"blue\");"
   ]
  },
  {
   "cell_type": "code",
   "execution_count": 22,
   "id": "9d590ce6-e596-4828-b523-727d267195fb",
   "metadata": {},
   "outputs": [],
   "source": [
    "# output.explore()"
   ]
  }
 ],
 "metadata": {
  "kernelspec": {
   "display_name": "Python 3",
   "language": "python",
   "name": "python3"
  },
  "language_info": {
   "codemirror_mode": {
    "name": "ipython",
    "version": 3
   },
   "file_extension": ".py",
   "mimetype": "text/x-python",
   "name": "python",
   "nbconvert_exporter": "python",
   "pygments_lexer": "ipython3",
   "version": "3.9.16"
  }
 },
 "nbformat": 4,
 "nbformat_minor": 5
}
