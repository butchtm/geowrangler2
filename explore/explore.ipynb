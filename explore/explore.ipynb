{
 "cells": [
  {
   "cell_type": "code",
   "execution_count": 1,
   "id": "784bfb97-a1f5-49df-81b6-92565d7d9936",
   "metadata": {},
   "outputs": [],
   "source": [
    "%reload_ext autoreload\n",
    "%autoreload 2"
   ]
  },
  {
   "cell_type": "code",
   "execution_count": 2,
   "id": "748abc52-7882-46b6-b675-3f660f23a3c2",
   "metadata": {},
   "outputs": [],
   "source": [
    "import requests\n",
    "import geopandas as gpd\n",
    "import pandas as pd\n",
    "import geowrangler2.core as core"
   ]
  },
  {
   "cell_type": "code",
   "execution_count": 3,
   "id": "589beec3-3551-4091-be5a-ccc77d6ee0fa",
   "metadata": {},
   "outputs": [],
   "source": [
    "# phl_admin_boundaries_url = \"https://www.geoboundaries.org/api/current/gbOpen/PHL/ADM0/\"\n",
    "\n",
    "# response = requests.get(phl_admin_boundaries_url)\n",
    "\n",
    "# simplified_geojson_url = response.json()[\"simplifiedGeometryGeoJSON\"]\n",
    "\n",
    "# admin_gdf = admin_df = gpd.read_file(simplified_geojson_url, dialect=\"standard\")\n",
    "\n",
    "# admin_gdf = gpd.GeoDataFrame(admin_df, crs=\"EPSG:4326\")"
   ]
  },
  {
   "cell_type": "code",
   "execution_count": 4,
   "id": "c99fb903-3125-44bd-bb47-8c09a8cebf9d",
   "metadata": {},
   "outputs": [
    {
     "data": {
      "text/plain": [
       "\u001b[0;31mSignature:\u001b[0m \u001b[0mcore\u001b[0m\u001b[0;34m.\u001b[0m\u001b[0mfoo\u001b[0m\u001b[0;34m(\u001b[0m\u001b[0mbar\u001b[0m\u001b[0;34m:\u001b[0m \u001b[0mstr\u001b[0m \u001b[0;34m=\u001b[0m \u001b[0;34m'baz'\u001b[0m\u001b[0;34m)\u001b[0m \u001b[0;34m->\u001b[0m \u001b[0mstr\u001b[0m\u001b[0;34m\u001b[0m\u001b[0;34m\u001b[0m\u001b[0m\n",
       "\u001b[0;31mDocstring:\u001b[0m\n",
       "Function that returns the value of the input argument.\n",
       "\n",
       "Parameters:\n",
       "bar (str): Input string. Defaults to 'baz'.\n",
       "\n",
       "Returns:\n",
       "str: The input string.\n",
       "\u001b[0;31mFile:\u001b[0m      ~/work/geowrangler2/explore1/geowrangler2/core.py\n",
       "\u001b[0;31mType:\u001b[0m      function"
      ]
     },
     "metadata": {},
     "output_type": "display_data"
    }
   ],
   "source": [
    "core.foo?"
   ]
  },
  {
   "cell_type": "code",
   "execution_count": 5,
   "id": "053eb056-8c2d-45a5-8356-b9cee1c7bd21",
   "metadata": {},
   "outputs": [
    {
     "data": {
      "text/plain": [
       "'Butch'"
      ]
     },
     "execution_count": 5,
     "metadata": {},
     "output_type": "execute_result"
    }
   ],
   "source": [
    "core.foo(bar='Butch')"
   ]
  },
  {
   "cell_type": "code",
   "execution_count": 6,
   "id": "165eff19-b462-45a3-976e-a0dcd480711d",
   "metadata": {},
   "outputs": [
    {
     "data": {
      "text/plain": [
       "\u001b[0;31mSignature:\u001b[0m \u001b[0mcore\u001b[0m\u001b[0;34m.\u001b[0m\u001b[0mfoo\u001b[0m\u001b[0;34m(\u001b[0m\u001b[0mbar\u001b[0m\u001b[0;34m:\u001b[0m \u001b[0mstr\u001b[0m \u001b[0;34m=\u001b[0m \u001b[0;34m'baz'\u001b[0m\u001b[0;34m)\u001b[0m \u001b[0;34m->\u001b[0m \u001b[0mstr\u001b[0m\u001b[0;34m\u001b[0m\u001b[0;34m\u001b[0m\u001b[0m\n",
       "\u001b[0;31mDocstring:\u001b[0m\n",
       "Function that returns the value of the input argument.\n",
       "\n",
       "Parameters:\n",
       "bar (str): Input string. Defaults to 'baz'.\n",
       "\n",
       "Returns:\n",
       "str: The input string.\n",
       "\u001b[0;31mFile:\u001b[0m      ~/work/geowrangler2/explore1/geowrangler2/core.py\n",
       "\u001b[0;31mType:\u001b[0m      function"
      ]
     },
     "metadata": {},
     "output_type": "display_data"
    }
   ],
   "source": [
    "core.foo?"
   ]
  },
  {
   "cell_type": "code",
   "execution_count": 7,
   "id": "767544dc-e080-4bf2-b62a-e0ab0117d6cf",
   "metadata": {},
   "outputs": [
    {
     "data": {
      "text/plain": [
       "\u001b[0;31mInit signature:\u001b[0m \u001b[0mcore\u001b[0m\u001b[0;34m.\u001b[0m\u001b[0mDummy\u001b[0m\u001b[0;34m(\u001b[0m\u001b[0;34m*\u001b[0m\u001b[0margs\u001b[0m\u001b[0;34m,\u001b[0m \u001b[0;34m**\u001b[0m\u001b[0mkwargs\u001b[0m\u001b[0;34m)\u001b[0m\u001b[0;34m\u001b[0m\u001b[0;34m\u001b[0m\u001b[0m\n",
       "\u001b[0;31mDocstring:\u001b[0m     \n",
       "Dummy class example\n",
       "\n",
       "Dummy class example for documentation purposes.\n",
       "Goal is to showcase how to split class methods into their own sections\n",
       "\u001b[0;31mFile:\u001b[0m           ~/work/geowrangler2/explore1/geowrangler2/core.py\n",
       "\u001b[0;31mType:\u001b[0m           type\n",
       "\u001b[0;31mSubclasses:\u001b[0m     "
      ]
     },
     "metadata": {},
     "output_type": "display_data"
    }
   ],
   "source": [
    "core.Dummy?"
   ]
  },
  {
   "cell_type": "code",
   "execution_count": 8,
   "id": "cafe87d0-7415-4514-a789-553aade3cbc1",
   "metadata": {},
   "outputs": [
    {
     "data": {
      "text/plain": [
       "\u001b[0;31mSignature:\u001b[0m \u001b[0mcore\u001b[0m\u001b[0;34m.\u001b[0m\u001b[0mDummy\u001b[0m\u001b[0;34m.\u001b[0m\u001b[0mdummyfoo\u001b[0m\u001b[0;34m(\u001b[0m\u001b[0mself\u001b[0m\u001b[0;34m:\u001b[0m \u001b[0mgeowrangler2\u001b[0m\u001b[0;34m.\u001b[0m\u001b[0mcore\u001b[0m\u001b[0;34m.\u001b[0m\u001b[0mDummy\u001b[0m\u001b[0;34m,\u001b[0m \u001b[0mbar\u001b[0m\u001b[0;34m:\u001b[0m \u001b[0mstr\u001b[0m \u001b[0;34m=\u001b[0m \u001b[0;34m'baz'\u001b[0m\u001b[0;34m)\u001b[0m \u001b[0;34m->\u001b[0m \u001b[0mstr\u001b[0m\u001b[0;34m\u001b[0m\u001b[0;34m\u001b[0m\u001b[0m\n",
       "\u001b[0;31mDocstring:\u001b[0m\n",
       "Method that returns the value of the input argument.\n",
       "\n",
       "Parameters:\n",
       "bar (str): Input string. Defaults to 'baz'.\n",
       "\n",
       "Returns:\n",
       "str: The input string.\n",
       "\u001b[0;31mFile:\u001b[0m      ~/work/geowrangler2/explore1/geowrangler2/core.py\n",
       "\u001b[0;31mType:\u001b[0m      function"
      ]
     },
     "metadata": {},
     "output_type": "display_data"
    }
   ],
   "source": [
    "core.Dummy.dummyfoo?"
   ]
  },
  {
   "cell_type": "code",
   "execution_count": 9,
   "id": "40ae7548-3630-4945-883c-9e23cb037022",
   "metadata": {},
   "outputs": [],
   "source": [
    "dummy = core.Dummy()"
   ]
  },
  {
   "cell_type": "code",
   "execution_count": 10,
   "id": "4074dfbf-0c8c-4d63-b10d-9242a52bf695",
   "metadata": {},
   "outputs": [
    {
     "data": {
      "text/plain": [
       "\u001b[0;31mSignature:\u001b[0m \u001b[0mdummy\u001b[0m\u001b[0;34m.\u001b[0m\u001b[0mdummyfoo\u001b[0m\u001b[0;34m(\u001b[0m\u001b[0mbar\u001b[0m\u001b[0;34m:\u001b[0m \u001b[0mstr\u001b[0m \u001b[0;34m=\u001b[0m \u001b[0;34m'baz'\u001b[0m\u001b[0;34m)\u001b[0m \u001b[0;34m->\u001b[0m \u001b[0mstr\u001b[0m\u001b[0;34m\u001b[0m\u001b[0;34m\u001b[0m\u001b[0m\n",
       "\u001b[0;31mDocstring:\u001b[0m\n",
       "Method that returns the value of the input argument.\n",
       "\n",
       "Parameters:\n",
       "bar (str): Input string. Defaults to 'baz'.\n",
       "\n",
       "Returns:\n",
       "str: The input string.\n",
       "\u001b[0;31mFile:\u001b[0m      ~/work/geowrangler2/explore1/geowrangler2/core.py\n",
       "\u001b[0;31mType:\u001b[0m      method"
      ]
     },
     "metadata": {},
     "output_type": "display_data"
    }
   ],
   "source": [
    "dummy.dummyfoo?"
   ]
  },
  {
   "cell_type": "code",
   "execution_count": null,
   "id": "abd47f1e-c8cb-41f0-aa15-b5772028e0f8",
   "metadata": {},
   "outputs": [],
   "source": []
  }
 ],
 "metadata": {
  "kernelspec": {
   "display_name": "Python 3 (ipykernel)",
   "language": "python",
   "name": "python3"
  },
  "language_info": {
   "codemirror_mode": {
    "name": "ipython",
    "version": 3
   },
   "file_extension": ".py",
   "mimetype": "text/x-python",
   "name": "python",
   "nbconvert_exporter": "python",
   "pygments_lexer": "ipython3",
   "version": "3.10.12"
  }
 },
 "nbformat": 4,
 "nbformat_minor": 5
}
